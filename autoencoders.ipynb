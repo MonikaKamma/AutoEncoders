{
 "cells": [
  {
   "cell_type": "code",
   "execution_count": 0,
   "metadata": {
    "colab": {
     "base_uri": "https://localhost:8080/",
     "height": 34
    },
    "colab_type": "code",
    "id": "viCY7Zn5psMN",
    "outputId": "87187810-38e0-4667-9b63-60f87999c86c"
   },
   "outputs": [
    {
     "name": "stderr",
     "output_type": "stream",
     "text": [
      "Using TensorFlow backend.\n"
     ]
    }
   ],
   "source": [
    "#Import necessary packages\n",
    "import numpy as np\n",
    "from keras.datasets import mnist\n",
    "from keras.layers import Dense, Conv2D, MaxPooling2D, UpSampling2D\n",
    "from keras.models import Sequential\n",
    "import matplotlib.pyplot as plt\n",
    "from keras import backend as K"
   ]
  },
  {
   "cell_type": "markdown",
   "metadata": {
    "colab_type": "text",
    "id": "2vATVUR9pxNT"
   },
   "source": [
    "#Part 0: Importing and Normalizing Data"
   ]
  },
  {
   "cell_type": "code",
   "execution_count": 0,
   "metadata": {
    "colab": {
     "base_uri": "https://localhost:8080/",
     "height": 67
    },
    "colab_type": "code",
    "id": "nN1cUmn1p0vn",
    "outputId": "9f4f5b96-57b0-4f11-a8d2-1649546505c4"
   },
   "outputs": [
    {
     "name": "stdout",
     "output_type": "stream",
     "text": [
      "Downloading data from https://s3.amazonaws.com/img-datasets/mnist.npz\n",
      "11493376/11490434 [==============================] - 0s 0us/step\n",
      "11501568/11490434 [==============================] - 0s 0us/step\n"
     ]
    }
   ],
   "source": [
    "#Load MNIST data and normalize to [0,1]\n",
    "(data_train, _), (data_test, _) = mnist.load_data()\n",
    "data_train = data_train/255.0\n",
    "data_test = data_test/255.0"
   ]
  },
  {
   "cell_type": "code",
   "execution_count": 0,
   "metadata": {
    "colab": {},
    "colab_type": "code",
    "id": "DUwjSmhTp9w1"
   },
   "outputs": [],
   "source": [
    "#Reshape training and testing data into 784-dimensional vectors\n",
    "\n",
    "x_train=[]\n",
    "for i in range(len(data_train)):\n",
    "  x_train.append(np.reshape(data_train[i],(1,784)))\n",
    "  \n",
    "x_test=[]\n",
    "for i in range(len(data_test)):\n",
    "  x_test.append(np.reshape(data_test[i],(1,784)))\n",
    "  \n",
    "x_train = np.array(x_train).reshape(60000,784)\n",
    "x_test = np.array(x_test).reshape(10000,784)"
   ]
  },
  {
   "cell_type": "code",
   "execution_count": 0,
   "metadata": {
    "colab": {
     "base_uri": "https://localhost:8080/",
     "height": 1000
    },
    "colab_type": "code",
    "id": "tEwdV09ms_KF",
    "outputId": "5bc21767-df34-42d5-98ae-57a36a10f886"
   },
   "outputs": [
    {
     "name": "stdout",
     "output_type": "stream",
     "text": [
      "Train on 60000 samples, validate on 10000 samples\n",
      "Epoch 1/150\n",
      "60000/60000 [==============================] - 11s 175us/step - loss: 0.0743 - acc: 0.0111 - val_loss: 0.0677 - val_acc: 0.0161\n",
      "Epoch 2/150\n",
      "60000/60000 [==============================] - 9s 156us/step - loss: 0.0674 - acc: 0.0105 - val_loss: 0.0676 - val_acc: 0.0083\n",
      "Epoch 3/150\n",
      "60000/60000 [==============================] - 8s 135us/step - loss: 0.0674 - acc: 0.0111 - val_loss: 0.0676 - val_acc: 0.0161\n",
      "Epoch 4/150\n",
      "60000/60000 [==============================] - 9s 151us/step - loss: 0.0674 - acc: 0.0129 - val_loss: 0.0676 - val_acc: 0.0143\n",
      "Epoch 5/150\n",
      "60000/60000 [==============================] - 9s 158us/step - loss: 0.0656 - acc: 0.0111 - val_loss: 0.0619 - val_acc: 0.0129\n",
      "Epoch 6/150\n",
      "60000/60000 [==============================] - 9s 151us/step - loss: 0.0608 - acc: 0.0097 - val_loss: 0.0601 - val_acc: 0.0128\n",
      "Epoch 7/150\n",
      "60000/60000 [==============================] - 10s 163us/step - loss: 0.0595 - acc: 0.0092 - val_loss: 0.0588 - val_acc: 0.0111\n",
      "Epoch 8/150\n",
      "60000/60000 [==============================] - 9s 157us/step - loss: 0.0576 - acc: 0.0115 - val_loss: 0.0552 - val_acc: 0.0082\n",
      "Epoch 9/150\n",
      "60000/60000 [==============================] - 9s 146us/step - loss: 0.0542 - acc: 0.0101 - val_loss: 0.0529 - val_acc: 0.0100\n",
      "Epoch 10/150\n",
      "60000/60000 [==============================] - 9s 151us/step - loss: 0.0521 - acc: 0.0103 - val_loss: 0.0501 - val_acc: 0.0095\n",
      "Epoch 11/150\n",
      "60000/60000 [==============================] - 9s 154us/step - loss: 0.0490 - acc: 0.0099 - val_loss: 0.0475 - val_acc: 0.0094\n",
      "Epoch 12/150\n",
      "60000/60000 [==============================] - 9s 155us/step - loss: 0.0471 - acc: 0.0084 - val_loss: 0.0459 - val_acc: 0.0080\n",
      "Epoch 13/150\n",
      "60000/60000 [==============================] - 9s 155us/step - loss: 0.0453 - acc: 0.0089 - val_loss: 0.0439 - val_acc: 0.0067\n",
      "Epoch 14/150\n",
      "60000/60000 [==============================] - 9s 155us/step - loss: 0.0432 - acc: 0.0093 - val_loss: 0.0419 - val_acc: 0.0076\n",
      "Epoch 15/150\n",
      "60000/60000 [==============================] - 9s 154us/step - loss: 0.0413 - acc: 0.0091 - val_loss: 0.0400 - val_acc: 0.0079\n",
      "Epoch 16/150\n",
      "60000/60000 [==============================] - 8s 137us/step - loss: 0.0391 - acc: 0.0091 - val_loss: 0.0375 - val_acc: 0.0086\n",
      "Epoch 17/150\n",
      "60000/60000 [==============================] - 8s 140us/step - loss: 0.0369 - acc: 0.0084 - val_loss: 0.0358 - val_acc: 0.0065\n",
      "Epoch 18/150\n",
      "60000/60000 [==============================] - 9s 147us/step - loss: 0.0354 - acc: 0.0086 - val_loss: 0.0345 - val_acc: 0.0073\n",
      "Epoch 19/150\n",
      "60000/60000 [==============================] - 8s 134us/step - loss: 0.0341 - acc: 0.0097 - val_loss: 0.0335 - val_acc: 0.0085\n",
      "Epoch 20/150\n",
      "60000/60000 [==============================] - 8s 126us/step - loss: 0.0331 - acc: 0.0110 - val_loss: 0.0324 - val_acc: 0.0093\n",
      "Epoch 21/150\n",
      "60000/60000 [==============================] - 8s 127us/step - loss: 0.0320 - acc: 0.0116 - val_loss: 0.0313 - val_acc: 0.0095\n",
      "Epoch 22/150\n",
      "60000/60000 [==============================] - 8s 127us/step - loss: 0.0309 - acc: 0.0111 - val_loss: 0.0303 - val_acc: 0.0092\n",
      "Epoch 23/150\n",
      "60000/60000 [==============================] - 8s 127us/step - loss: 0.0300 - acc: 0.0113 - val_loss: 0.0294 - val_acc: 0.0102\n",
      "Epoch 24/150\n",
      "60000/60000 [==============================] - 8s 128us/step - loss: 0.0292 - acc: 0.0106 - val_loss: 0.0287 - val_acc: 0.0095\n",
      "Epoch 25/150\n",
      "60000/60000 [==============================] - 8s 126us/step - loss: 0.0286 - acc: 0.0099 - val_loss: 0.0282 - val_acc: 0.0091\n",
      "Epoch 26/150\n",
      "60000/60000 [==============================] - 8s 127us/step - loss: 0.0280 - acc: 0.0104 - val_loss: 0.0278 - val_acc: 0.0072\n",
      "Epoch 27/150\n",
      "60000/60000 [==============================] - 8s 127us/step - loss: 0.0274 - acc: 0.0097 - val_loss: 0.0270 - val_acc: 0.0086\n",
      "Epoch 28/150\n",
      "60000/60000 [==============================] - 8s 127us/step - loss: 0.0268 - acc: 0.0103 - val_loss: 0.0264 - val_acc: 0.0099\n",
      "Epoch 29/150\n",
      "60000/60000 [==============================] - 8s 126us/step - loss: 0.0263 - acc: 0.0100 - val_loss: 0.0259 - val_acc: 0.0093\n",
      "Epoch 30/150\n",
      "60000/60000 [==============================] - 8s 127us/step - loss: 0.0258 - acc: 0.0099 - val_loss: 0.0255 - val_acc: 0.0102\n",
      "Epoch 31/150\n",
      "60000/60000 [==============================] - 8s 127us/step - loss: 0.0254 - acc: 0.0103 - val_loss: 0.0250 - val_acc: 0.0101\n",
      "Epoch 32/150\n",
      "60000/60000 [==============================] - 8s 127us/step - loss: 0.0249 - acc: 0.0102 - val_loss: 0.0245 - val_acc: 0.0101\n",
      "Epoch 33/150\n",
      "60000/60000 [==============================] - 8s 127us/step - loss: 0.0243 - acc: 0.0099 - val_loss: 0.0239 - val_acc: 0.0107\n",
      "Epoch 34/150\n",
      "60000/60000 [==============================] - 8s 126us/step - loss: 0.0238 - acc: 0.0108 - val_loss: 0.0235 - val_acc: 0.0085\n",
      "Epoch 35/150\n",
      "60000/60000 [==============================] - 8s 128us/step - loss: 0.0234 - acc: 0.0103 - val_loss: 0.0230 - val_acc: 0.0113\n",
      "Epoch 36/150\n",
      "60000/60000 [==============================] - 8s 127us/step - loss: 0.0230 - acc: 0.0098 - val_loss: 0.0227 - val_acc: 0.0111\n",
      "Epoch 37/150\n",
      "60000/60000 [==============================] - 8s 128us/step - loss: 0.0226 - acc: 0.0108 - val_loss: 0.0223 - val_acc: 0.0094\n",
      "Epoch 38/150\n",
      "60000/60000 [==============================] - 8s 128us/step - loss: 0.0223 - acc: 0.0109 - val_loss: 0.0220 - val_acc: 0.0096\n",
      "Epoch 39/150\n",
      "60000/60000 [==============================] - 8s 128us/step - loss: 0.0219 - acc: 0.0107 - val_loss: 0.0216 - val_acc: 0.0098\n",
      "Epoch 40/150\n",
      "60000/60000 [==============================] - 8s 127us/step - loss: 0.0216 - acc: 0.0112 - val_loss: 0.0213 - val_acc: 0.0110\n",
      "Epoch 41/150\n",
      "60000/60000 [==============================] - 8s 131us/step - loss: 0.0212 - acc: 0.0118 - val_loss: 0.0209 - val_acc: 0.0109\n",
      "Epoch 42/150\n",
      "60000/60000 [==============================] - 8s 136us/step - loss: 0.0209 - acc: 0.0112 - val_loss: 0.0207 - val_acc: 0.0099\n",
      "Epoch 43/150\n",
      "60000/60000 [==============================] - 8s 132us/step - loss: 0.0206 - acc: 0.0113 - val_loss: 0.0204 - val_acc: 0.0118\n",
      "Epoch 44/150\n",
      "60000/60000 [==============================] - 8s 127us/step - loss: 0.0203 - acc: 0.0118 - val_loss: 0.0200 - val_acc: 0.0115\n",
      "Epoch 45/150\n",
      "60000/60000 [==============================] - 8s 130us/step - loss: 0.0200 - acc: 0.0116 - val_loss: 0.0199 - val_acc: 0.0131\n",
      "Epoch 46/150\n",
      "60000/60000 [==============================] - 8s 133us/step - loss: 0.0198 - acc: 0.0122 - val_loss: 0.0196 - val_acc: 0.0127\n",
      "Epoch 47/150\n",
      "60000/60000 [==============================] - 8s 127us/step - loss: 0.0195 - acc: 0.0121 - val_loss: 0.0193 - val_acc: 0.0127\n",
      "Epoch 48/150\n",
      "60000/60000 [==============================] - 8s 128us/step - loss: 0.0193 - acc: 0.0120 - val_loss: 0.0192 - val_acc: 0.0139\n",
      "Epoch 49/150\n",
      "60000/60000 [==============================] - 8s 127us/step - loss: 0.0191 - acc: 0.0119 - val_loss: 0.0191 - val_acc: 0.0133\n",
      "Epoch 50/150\n",
      "60000/60000 [==============================] - 8s 128us/step - loss: 0.0189 - acc: 0.0118 - val_loss: 0.0189 - val_acc: 0.0132\n",
      "Epoch 51/150\n",
      "60000/60000 [==============================] - 8s 128us/step - loss: 0.0187 - acc: 0.0126 - val_loss: 0.0186 - val_acc: 0.0123\n",
      "Epoch 52/150\n",
      "60000/60000 [==============================] - 8s 127us/step - loss: 0.0186 - acc: 0.0123 - val_loss: 0.0185 - val_acc: 0.0118\n",
      "Epoch 53/150\n",
      "60000/60000 [==============================] - 8s 127us/step - loss: 0.0184 - acc: 0.0119 - val_loss: 0.0184 - val_acc: 0.0137\n",
      "Epoch 54/150\n",
      "60000/60000 [==============================] - 8s 127us/step - loss: 0.0183 - acc: 0.0129 - val_loss: 0.0183 - val_acc: 0.0127\n",
      "Epoch 55/150\n",
      "60000/60000 [==============================] - 8s 128us/step - loss: 0.0181 - acc: 0.0126 - val_loss: 0.0181 - val_acc: 0.0130\n",
      "Epoch 56/150\n",
      "60000/60000 [==============================] - 8s 127us/step - loss: 0.0180 - acc: 0.0130 - val_loss: 0.0180 - val_acc: 0.0120\n",
      "Epoch 57/150\n",
      "60000/60000 [==============================] - 8s 128us/step - loss: 0.0178 - acc: 0.0129 - val_loss: 0.0180 - val_acc: 0.0107\n",
      "Epoch 58/150\n",
      "60000/60000 [==============================] - 8s 127us/step - loss: 0.0177 - acc: 0.0124 - val_loss: 0.0177 - val_acc: 0.0141\n",
      "Epoch 59/150\n",
      "60000/60000 [==============================] - 8s 126us/step - loss: 0.0176 - acc: 0.0128 - val_loss: 0.0176 - val_acc: 0.0134\n",
      "Epoch 60/150\n",
      "60000/60000 [==============================] - 8s 128us/step - loss: 0.0174 - acc: 0.0129 - val_loss: 0.0175 - val_acc: 0.0122\n",
      "Epoch 61/150\n",
      "60000/60000 [==============================] - 8s 129us/step - loss: 0.0173 - acc: 0.0125 - val_loss: 0.0174 - val_acc: 0.0103\n",
      "Epoch 62/150\n",
      "60000/60000 [==============================] - 8s 127us/step - loss: 0.0172 - acc: 0.0132 - val_loss: 0.0173 - val_acc: 0.0124\n",
      "Epoch 63/150\n",
      "60000/60000 [==============================] - 8s 127us/step - loss: 0.0171 - acc: 0.0126 - val_loss: 0.0172 - val_acc: 0.0110\n",
      "Epoch 64/150\n",
      "60000/60000 [==============================] - 8s 128us/step - loss: 0.0170 - acc: 0.0131 - val_loss: 0.0172 - val_acc: 0.0116\n",
      "Epoch 65/150\n",
      "60000/60000 [==============================] - 8s 126us/step - loss: 0.0168 - acc: 0.0129 - val_loss: 0.0170 - val_acc: 0.0120\n",
      "Epoch 66/150\n",
      "60000/60000 [==============================] - 8s 127us/step - loss: 0.0167 - acc: 0.0123 - val_loss: 0.0170 - val_acc: 0.0123\n",
      "Epoch 67/150\n",
      "60000/60000 [==============================] - 8s 128us/step - loss: 0.0166 - acc: 0.0132 - val_loss: 0.0169 - val_acc: 0.0129\n",
      "Epoch 68/150\n",
      "60000/60000 [==============================] - 8s 129us/step - loss: 0.0165 - acc: 0.0130 - val_loss: 0.0167 - val_acc: 0.0128\n",
      "Epoch 69/150\n",
      "60000/60000 [==============================] - 8s 128us/step - loss: 0.0164 - acc: 0.0129 - val_loss: 0.0166 - val_acc: 0.0120\n",
      "Epoch 70/150\n",
      "60000/60000 [==============================] - 8s 128us/step - loss: 0.0163 - acc: 0.0130 - val_loss: 0.0164 - val_acc: 0.0138\n",
      "Epoch 71/150\n",
      "60000/60000 [==============================] - 8s 127us/step - loss: 0.0161 - acc: 0.0131 - val_loss: 0.0164 - val_acc: 0.0116\n",
      "Epoch 72/150\n",
      "60000/60000 [==============================] - 8s 129us/step - loss: 0.0160 - acc: 0.0127 - val_loss: 0.0163 - val_acc: 0.0145\n",
      "Epoch 73/150\n",
      "60000/60000 [==============================] - 8s 128us/step - loss: 0.0159 - acc: 0.0130 - val_loss: 0.0160 - val_acc: 0.0141\n",
      "Epoch 74/150\n",
      "60000/60000 [==============================] - 8s 127us/step - loss: 0.0157 - acc: 0.0130 - val_loss: 0.0159 - val_acc: 0.0131\n",
      "Epoch 75/150\n",
      "60000/60000 [==============================] - 8s 128us/step - loss: 0.0156 - acc: 0.0136 - val_loss: 0.0158 - val_acc: 0.0127\n",
      "Epoch 76/150\n",
      "60000/60000 [==============================] - 8s 127us/step - loss: 0.0155 - acc: 0.0128 - val_loss: 0.0156 - val_acc: 0.0130\n",
      "Epoch 77/150\n",
      "60000/60000 [==============================] - 8s 132us/step - loss: 0.0153 - acc: 0.0132 - val_loss: 0.0155 - val_acc: 0.0133\n",
      "Epoch 78/150\n",
      "60000/60000 [==============================] - 8s 132us/step - loss: 0.0152 - acc: 0.0136 - val_loss: 0.0155 - val_acc: 0.0115\n",
      "Epoch 79/150\n",
      "60000/60000 [==============================] - 8s 128us/step - loss: 0.0150 - acc: 0.0130 - val_loss: 0.0152 - val_acc: 0.0150\n",
      "Epoch 80/150\n",
      "60000/60000 [==============================] - 8s 128us/step - loss: 0.0149 - acc: 0.0131 - val_loss: 0.0152 - val_acc: 0.0145\n",
      "Epoch 81/150\n",
      "60000/60000 [==============================] - 8s 131us/step - loss: 0.0147 - acc: 0.0129 - val_loss: 0.0149 - val_acc: 0.0103\n",
      "Epoch 82/150\n",
      "60000/60000 [==============================] - 8s 128us/step - loss: 0.0146 - acc: 0.0132 - val_loss: 0.0148 - val_acc: 0.0107\n",
      "Epoch 83/150\n",
      "60000/60000 [==============================] - 8s 128us/step - loss: 0.0144 - acc: 0.0129 - val_loss: 0.0147 - val_acc: 0.0111\n",
      "Epoch 84/150\n",
      "60000/60000 [==============================] - 8s 135us/step - loss: 0.0143 - acc: 0.0123 - val_loss: 0.0145 - val_acc: 0.0133\n",
      "Epoch 85/150\n",
      "60000/60000 [==============================] - 8s 131us/step - loss: 0.0141 - acc: 0.0129 - val_loss: 0.0143 - val_acc: 0.0113\n",
      "Epoch 86/150\n",
      "60000/60000 [==============================] - 8s 132us/step - loss: 0.0140 - acc: 0.0132 - val_loss: 0.0143 - val_acc: 0.0115\n",
      "Epoch 87/150\n",
      "60000/60000 [==============================] - 8s 129us/step - loss: 0.0139 - acc: 0.0129 - val_loss: 0.0142 - val_acc: 0.0122\n",
      "Epoch 88/150\n",
      "60000/60000 [==============================] - 8s 128us/step - loss: 0.0138 - acc: 0.0132 - val_loss: 0.0139 - val_acc: 0.0122\n",
      "Epoch 89/150\n",
      "60000/60000 [==============================] - 8s 127us/step - loss: 0.0136 - acc: 0.0134 - val_loss: 0.0138 - val_acc: 0.0153\n",
      "Epoch 90/150\n",
      "60000/60000 [==============================] - 8s 128us/step - loss: 0.0135 - acc: 0.0134 - val_loss: 0.0138 - val_acc: 0.0125\n",
      "Epoch 91/150\n",
      "60000/60000 [==============================] - 8s 129us/step - loss: 0.0134 - acc: 0.0131 - val_loss: 0.0136 - val_acc: 0.0133\n",
      "Epoch 92/150\n",
      "60000/60000 [==============================] - 8s 129us/step - loss: 0.0133 - acc: 0.0134 - val_loss: 0.0135 - val_acc: 0.0128\n",
      "Epoch 93/150\n",
      "60000/60000 [==============================] - 8s 127us/step - loss: 0.0132 - acc: 0.0136 - val_loss: 0.0134 - val_acc: 0.0129\n",
      "Epoch 94/150\n",
      "60000/60000 [==============================] - 8s 127us/step - loss: 0.0131 - acc: 0.0137 - val_loss: 0.0133 - val_acc: 0.0116\n",
      "Epoch 95/150\n",
      "60000/60000 [==============================] - 8s 128us/step - loss: 0.0129 - acc: 0.0136 - val_loss: 0.0132 - val_acc: 0.0120\n",
      "Epoch 96/150\n",
      "60000/60000 [==============================] - 8s 127us/step - loss: 0.0128 - acc: 0.0139 - val_loss: 0.0131 - val_acc: 0.0135\n",
      "Epoch 97/150\n",
      "60000/60000 [==============================] - 8s 128us/step - loss: 0.0127 - acc: 0.0139 - val_loss: 0.0130 - val_acc: 0.0144\n",
      "Epoch 98/150\n",
      "60000/60000 [==============================] - 8s 126us/step - loss: 0.0126 - acc: 0.0142 - val_loss: 0.0129 - val_acc: 0.0123\n",
      "Epoch 99/150\n",
      "60000/60000 [==============================] - 8s 128us/step - loss: 0.0125 - acc: 0.0145 - val_loss: 0.0128 - val_acc: 0.0129\n",
      "Epoch 100/150\n",
      "60000/60000 [==============================] - 8s 127us/step - loss: 0.0124 - acc: 0.0150 - val_loss: 0.0127 - val_acc: 0.0130\n",
      "Epoch 101/150\n",
      "60000/60000 [==============================] - 8s 127us/step - loss: 0.0123 - acc: 0.0152 - val_loss: 0.0126 - val_acc: 0.0152\n",
      "Epoch 102/150\n",
      "60000/60000 [==============================] - 7s 124us/step - loss: 0.0122 - acc: 0.0144 - val_loss: 0.0125 - val_acc: 0.0148\n",
      "Epoch 103/150\n",
      "60000/60000 [==============================] - 8s 125us/step - loss: 0.0121 - acc: 0.0145 - val_loss: 0.0124 - val_acc: 0.0151\n",
      "Epoch 104/150\n",
      "60000/60000 [==============================] - 7s 125us/step - loss: 0.0120 - acc: 0.0152 - val_loss: 0.0123 - val_acc: 0.0133\n",
      "Epoch 105/150\n",
      "60000/60000 [==============================] - 8s 125us/step - loss: 0.0119 - acc: 0.0145 - val_loss: 0.0122 - val_acc: 0.0148\n",
      "Epoch 106/150\n",
      "60000/60000 [==============================] - 8s 126us/step - loss: 0.0118 - acc: 0.0154 - val_loss: 0.0121 - val_acc: 0.0140\n",
      "Epoch 107/150\n",
      "60000/60000 [==============================] - 8s 126us/step - loss: 0.0117 - acc: 0.0149 - val_loss: 0.0120 - val_acc: 0.0145\n",
      "Epoch 108/150\n",
      "60000/60000 [==============================] - 7s 125us/step - loss: 0.0116 - acc: 0.0147 - val_loss: 0.0119 - val_acc: 0.0142\n",
      "Epoch 109/150\n",
      "60000/60000 [==============================] - 8s 127us/step - loss: 0.0115 - acc: 0.0153 - val_loss: 0.0119 - val_acc: 0.0134\n",
      "Epoch 110/150\n",
      "60000/60000 [==============================] - 7s 125us/step - loss: 0.0114 - acc: 0.0154 - val_loss: 0.0117 - val_acc: 0.0144\n",
      "Epoch 111/150\n",
      "60000/60000 [==============================] - 8s 126us/step - loss: 0.0113 - acc: 0.0152 - val_loss: 0.0116 - val_acc: 0.0132\n",
      "Epoch 112/150\n",
      "60000/60000 [==============================] - 8s 126us/step - loss: 0.0112 - acc: 0.0149 - val_loss: 0.0116 - val_acc: 0.0148\n",
      "Epoch 113/150\n",
      "60000/60000 [==============================] - 8s 126us/step - loss: 0.0112 - acc: 0.0149 - val_loss: 0.0115 - val_acc: 0.0141\n",
      "Epoch 114/150\n",
      "60000/60000 [==============================] - 8s 126us/step - loss: 0.0111 - acc: 0.0154 - val_loss: 0.0114 - val_acc: 0.0137\n",
      "Epoch 115/150\n",
      "60000/60000 [==============================] - 8s 126us/step - loss: 0.0110 - acc: 0.0154 - val_loss: 0.0114 - val_acc: 0.0160\n",
      "Epoch 116/150\n",
      "60000/60000 [==============================] - 8s 126us/step - loss: 0.0109 - acc: 0.0155 - val_loss: 0.0113 - val_acc: 0.0139\n",
      "Epoch 117/150\n",
      "60000/60000 [==============================] - 8s 127us/step - loss: 0.0108 - acc: 0.0152 - val_loss: 0.0112 - val_acc: 0.0149\n",
      "Epoch 118/150\n",
      "60000/60000 [==============================] - 8s 128us/step - loss: 0.0108 - acc: 0.0148 - val_loss: 0.0111 - val_acc: 0.0147\n",
      "Epoch 119/150\n",
      "60000/60000 [==============================] - 8s 131us/step - loss: 0.0107 - acc: 0.0151 - val_loss: 0.0110 - val_acc: 0.0132\n",
      "Epoch 120/150\n",
      "60000/60000 [==============================] - 8s 131us/step - loss: 0.0106 - acc: 0.0153 - val_loss: 0.0110 - val_acc: 0.0132\n",
      "Epoch 121/150\n",
      "60000/60000 [==============================] - 8s 129us/step - loss: 0.0105 - acc: 0.0153 - val_loss: 0.0109 - val_acc: 0.0149\n",
      "Epoch 122/150\n",
      "60000/60000 [==============================] - 8s 129us/step - loss: 0.0105 - acc: 0.0150 - val_loss: 0.0108 - val_acc: 0.0130\n",
      "Epoch 123/150\n",
      "60000/60000 [==============================] - 8s 126us/step - loss: 0.0104 - acc: 0.0150 - val_loss: 0.0108 - val_acc: 0.0136\n",
      "Epoch 124/150\n",
      "60000/60000 [==============================] - 8s 125us/step - loss: 0.0103 - acc: 0.0146 - val_loss: 0.0108 - val_acc: 0.0127\n",
      "Epoch 125/150\n",
      "60000/60000 [==============================] - 8s 127us/step - loss: 0.0103 - acc: 0.0152 - val_loss: 0.0106 - val_acc: 0.0127\n",
      "Epoch 126/150\n",
      "60000/60000 [==============================] - 8s 127us/step - loss: 0.0102 - acc: 0.0146 - val_loss: 0.0106 - val_acc: 0.0132\n",
      "Epoch 127/150\n",
      "60000/60000 [==============================] - 8s 127us/step - loss: 0.0101 - acc: 0.0148 - val_loss: 0.0105 - val_acc: 0.0127\n",
      "Epoch 128/150\n",
      "60000/60000 [==============================] - 8s 126us/step - loss: 0.0101 - acc: 0.0149 - val_loss: 0.0105 - val_acc: 0.0119\n",
      "Epoch 129/150\n",
      "60000/60000 [==============================] - 7s 125us/step - loss: 0.0100 - acc: 0.0145 - val_loss: 0.0104 - val_acc: 0.0129\n",
      "Epoch 130/150\n",
      "60000/60000 [==============================] - 8s 126us/step - loss: 0.0099 - acc: 0.0151 - val_loss: 0.0103 - val_acc: 0.0118\n",
      "Epoch 131/150\n",
      "60000/60000 [==============================] - 8s 127us/step - loss: 0.0099 - acc: 0.0152 - val_loss: 0.0103 - val_acc: 0.0133\n",
      "Epoch 132/150\n",
      "60000/60000 [==============================] - 8s 125us/step - loss: 0.0098 - acc: 0.0144 - val_loss: 0.0102 - val_acc: 0.0130\n",
      "Epoch 133/150\n",
      "60000/60000 [==============================] - 8s 126us/step - loss: 0.0097 - acc: 0.0144 - val_loss: 0.0101 - val_acc: 0.0138\n",
      "Epoch 134/150\n",
      "60000/60000 [==============================] - 8s 125us/step - loss: 0.0097 - acc: 0.0147 - val_loss: 0.0101 - val_acc: 0.0130\n",
      "Epoch 135/150\n",
      "60000/60000 [==============================] - 8s 127us/step - loss: 0.0096 - acc: 0.0141 - val_loss: 0.0101 - val_acc: 0.0124\n",
      "Epoch 136/150\n",
      "60000/60000 [==============================] - 7s 125us/step - loss: 0.0095 - acc: 0.0142 - val_loss: 0.0099 - val_acc: 0.0135\n",
      "Epoch 137/150\n",
      "60000/60000 [==============================] - 8s 126us/step - loss: 0.0095 - acc: 0.0142 - val_loss: 0.0099 - val_acc: 0.0121\n",
      "Epoch 138/150\n",
      "60000/60000 [==============================] - 8s 126us/step - loss: 0.0094 - acc: 0.0145 - val_loss: 0.0098 - val_acc: 0.0116\n",
      "Epoch 139/150\n",
      "60000/60000 [==============================] - 8s 125us/step - loss: 0.0094 - acc: 0.0138 - val_loss: 0.0098 - val_acc: 0.0125\n",
      "Epoch 140/150\n",
      "60000/60000 [==============================] - 8s 127us/step - loss: 0.0093 - acc: 0.0142 - val_loss: 0.0097 - val_acc: 0.0114\n",
      "Epoch 141/150\n",
      "60000/60000 [==============================] - 8s 126us/step - loss: 0.0093 - acc: 0.0139 - val_loss: 0.0096 - val_acc: 0.0108\n",
      "Epoch 142/150\n",
      "60000/60000 [==============================] - 8s 126us/step - loss: 0.0092 - acc: 0.0141 - val_loss: 0.0096 - val_acc: 0.0114\n",
      "Epoch 143/150\n",
      "60000/60000 [==============================] - 8s 126us/step - loss: 0.0092 - acc: 0.0137 - val_loss: 0.0096 - val_acc: 0.0115\n",
      "Epoch 144/150\n",
      "60000/60000 [==============================] - 8s 126us/step - loss: 0.0091 - acc: 0.0144 - val_loss: 0.0096 - val_acc: 0.0131\n",
      "Epoch 145/150\n",
      "60000/60000 [==============================] - 8s 125us/step - loss: 0.0091 - acc: 0.0144 - val_loss: 0.0095 - val_acc: 0.0126\n",
      "Epoch 146/150\n",
      "60000/60000 [==============================] - 8s 126us/step - loss: 0.0090 - acc: 0.0139 - val_loss: 0.0094 - val_acc: 0.0125\n",
      "Epoch 147/150\n",
      "60000/60000 [==============================] - 8s 126us/step - loss: 0.0089 - acc: 0.0138 - val_loss: 0.0093 - val_acc: 0.0128\n",
      "Epoch 148/150\n",
      "60000/60000 [==============================] - 8s 127us/step - loss: 0.0089 - acc: 0.0136 - val_loss: 0.0094 - val_acc: 0.0121\n",
      "Epoch 149/150\n",
      "60000/60000 [==============================] - 8s 126us/step - loss: 0.0089 - acc: 0.0142 - val_loss: 0.0092 - val_acc: 0.0099\n",
      "Epoch 150/150\n",
      "60000/60000 [==============================] - 8s 126us/step - loss: 0.0088 - acc: 0.0140 - val_loss: 0.0092 - val_acc: 0.0111\n"
     ]
    }
   ],
   "source": [
    "#Create autoencoder architecture\n",
    "def deep_ae():\n",
    "    model = Sequential()\n",
    "\n",
    "\n",
    "    model.add(Dense(400,\n",
    "                    activation='sigmoid',\n",
    "                    use_bias=True,\n",
    "                    kernel_initializer='uniform',\n",
    "                   input_dim=784))\n",
    "    model.add(Dense(200,\n",
    "                    activation='sigmoid',\n",
    "                    use_bias=True,\n",
    "                    kernel_initializer='uniform'))\n",
    "    model.add(Dense(100,\n",
    "                    activation='sigmoid',\n",
    "                    use_bias=True,\n",
    "                    kernel_initializer='uniform'))\n",
    "    model.add(Dense(200,\n",
    "                    activation='sigmoid',\n",
    "                    use_bias=True,\n",
    "                    kernel_initializer='uniform'))\n",
    "    model.add(Dense(400,\n",
    "                    activation='sigmoid',\n",
    "                    use_bias=True,\n",
    "                    kernel_initializer='uniform'))\n",
    "    model.add(Dense(784,\n",
    "                    activation='sigmoid',\n",
    "                    use_bias=True,\n",
    "                    kernel_initializer='uniform'))\n",
    "\n",
    "    return model\n",
    "\n",
    "#Create deep autoencoder graph\n",
    "deep_ae = deep_ae()\n",
    "\n",
    "#Compile model using an appropriate loss and optimizer algorithm\n",
    "\n",
    "deep_ae.compile(loss='mse',\n",
    "                 optimizer='adam',\n",
    "                 metrics=['accuracy'])\n",
    "\n",
    "#Train the model and assign training meta-data to a variable\n",
    "\n",
    "deep_ae_data = deep_ae.fit(x_train, x_train, validation_data=(x_test, x_test), epochs=150, batch_size=512, shuffle=True)\n",
    "\n",
    "#Calculate the reconstructions of the testing set (output of autoencoder on test set)\n",
    "\n",
    "reconstructed_images=deep_ae.predict(x_test)\n",
    "\n",
    "#Obtain encoder representation of data\n",
    "get_hl = K.function([deep_ae.layers[0].input], [deep_ae.layers[2].output]) #The third hidden layer is indexed at 2\n",
    "deep_ae_hl = get_hl([x_test])[0]"
   ]
  },
  {
   "cell_type": "code",
   "execution_count": 0,
   "metadata": {
    "colab": {
     "base_uri": "https://localhost:8080/",
     "height": 295
    },
    "colab_type": "code",
    "id": "cb1psOUHtZpk",
    "outputId": "c911d3a8-7cad-4988-b6c9-3220b58ac422"
   },
   "outputs": [
    {
     "data": {
      "image/png": "[encoded data removed]",
      "text/plain": [
       "<Figure size 432x288 with 1 Axes>"
      ]
     },
     "metadata": {
      "tags": []
     },
     "output_type": "display_data"
    }
   ],
   "source": [
    "#Plot loss vs epoch\n",
    "\n",
    "plt.plot(deep_ae_data.history['loss'])\n",
    "plt.plot(deep_ae_data.history['val_loss'])\n",
    "plt.title('model loss')\n",
    "plt.ylabel('loss')\n",
    "plt.xlabel('epoch')\n",
    "plt.legend(['train', 'test'], loc='upper left')\n",
    "plt.show()"
   ]
  },
  {
   "cell_type": "code",
   "execution_count": 0,
   "metadata": {
    "colab": {
     "base_uri": "https://localhost:8080/",
     "height": 83
    },
    "colab_type": "code",
    "id": "21ALTu2Vte2-",
    "outputId": "701ba398-2078-4281-88cc-ae3497ac98d9"
   },
   "outputs": [
    {
     "name": "stdout",
     "output_type": "stream",
     "text": [
      "10 test sample images\n"
     ]
    },
    {
     "data": {
      "image/png": "[encoded data removed]",
      "text/plain": [
       "<Figure size 432x288 with 10 Axes>"
      ]
     },
     "metadata": {
      "tags": []
     },
     "output_type": "display_data"
    }
   ],
   "source": [
    "#Show samples of 10 images, their hidden layer representations, and their reconstructions\n",
    "print(\"10 test sample images\")\n",
    "n=10\n",
    "plt.figure()\n",
    "for i in range(n):\n",
    "  ax=plt.subplot(2,10,i+1)\n",
    "  plt.imshow(x_test[i].reshape((28,28)))\n",
    "  plt.gray()\n",
    "  ax.get_xaxis().set_visible(False)\n",
    "  ax.get_yaxis().set_visible(False)\n",
    "  \n",
    "  "
   ]
  },
  {
   "cell_type": "code",
   "execution_count": 0,
   "metadata": {
    "colab": {
     "base_uri": "https://localhost:8080/",
     "height": 83
    },
    "colab_type": "code",
    "id": "nNI4ygOHmsH9",
    "outputId": "06101024-0f7e-4013-a8b6-401d883d10fd"
   },
   "outputs": [
    {
     "name": "stdout",
     "output_type": "stream",
     "text": [
      "first 10 images of the bottleneck layer\n"
     ]
    },
    {
     "data": {
      "image/png": "[encoded data removed]",
      "text/plain": [
       "<Figure size 432x288 with 10 Axes>"
      ]
     },
     "metadata": {
      "tags": []
     },
     "output_type": "display_data"
    }
   ],
   "source": [
    "print(\"first 10 images of the bottleneck layer\")\n",
    "n=10\n",
    "plt.figure()\n",
    "for i in range(n):\n",
    "  ax=plt.subplot(2,10,i+1)\n",
    "  plt.imshow(deep_ae_hl[i].reshape((10,10)))\n",
    "  plt.gray()\n",
    "  ax.get_xaxis().set_visible(False)\n",
    "  ax.get_yaxis().set_visible(False)"
   ]
  },
  {
   "cell_type": "code",
   "execution_count": 0,
   "metadata": {
    "colab": {
     "base_uri": "https://localhost:8080/",
     "height": 83
    },
    "colab_type": "code",
    "id": "17HWycUCmKmh",
    "outputId": "97d4b7dc-a9b5-404f-985d-acde38215042"
   },
   "outputs": [
    {
     "name": "stdout",
     "output_type": "stream",
     "text": [
      "10 reconstructed sample images\n"
     ]
    },
    {
     "data": {
      "image/png": "[encoded data removed]",
      "text/plain": [
       "<Figure size 432x288 with 10 Axes>"
      ]
     },
     "metadata": {
      "tags": []
     },
     "output_type": "display_data"
    }
   ],
   "source": [
    "print(\"10 reconstructed sample images\")\n",
    "n=10\n",
    "plt.figure()\n",
    "for i in range(n):\n",
    "  ax=plt.subplot(2,10,i+1)\n",
    "  plt.imshow(reconstructed_images[i].reshape((28,28)))\n",
    "  plt.gray()\n",
    "  ax.get_xaxis().set_visible(False)\n",
    "  ax.get_yaxis().set_visible(False)"
   ]
  },
  {
   "cell_type": "markdown",
   "metadata": {
    "colab_type": "text",
    "id": "TA4O3FwRt-sO"
   },
   "source": [
    "#Part 2: Deep Convolutional AutoEncoder"
   ]
  },
  {
   "cell_type": "code",
   "execution_count": 0,
   "metadata": {
    "colab": {},
    "colab_type": "code",
    "id": "-a7Xlz7VuBl8"
   },
   "outputs": [],
   "source": [
    "#Reshape data into 2-D signals and account for grayscale channel in each image\n",
    "\n",
    "x_train = np.array(x_train).reshape(60000,28,28,1)\n",
    "x_test = np.array(x_test).reshape(10000,28,28,1)"
   ]
  },
  {
   "cell_type": "code",
   "execution_count": 0,
   "metadata": {
    "colab": {
     "base_uri": "https://localhost:8080/",
     "height": 1000
    },
    "colab_type": "code",
    "id": "a-wENWWnuQGa",
    "outputId": "a8610b7f-62f8-4c6a-d97e-baf4ab74e263"
   },
   "outputs": [
    {
     "name": "stdout",
     "output_type": "stream",
     "text": [
      "Train on 60000 samples, validate on 10000 samples\n",
      "Epoch 1/150\n",
      "60000/60000 [==============================] - 72s 1ms/step - loss: 0.1177 - acc: 0.7669 - val_loss: 0.1011 - val_acc: 0.8072\n",
      "Epoch 2/150\n",
      "60000/60000 [==============================] - 69s 1ms/step - loss: 0.0971 - acc: 0.8088 - val_loss: 0.0955 - val_acc: 0.8072\n",
      "Epoch 3/150\n",
      "60000/60000 [==============================] - 69s 1ms/step - loss: 0.0887 - acc: 0.8088 - val_loss: 0.0824 - val_acc: 0.8072\n",
      "Epoch 4/150\n",
      "60000/60000 [==============================] - 70s 1ms/step - loss: 0.0706 - acc: 0.8069 - val_loss: 0.0594 - val_acc: 0.7885\n",
      "Epoch 5/150\n",
      "60000/60000 [==============================] - 70s 1ms/step - loss: 0.0529 - acc: 0.7860 - val_loss: 0.0462 - val_acc: 0.7900\n",
      "Epoch 6/150\n",
      "60000/60000 [==============================] - 70s 1ms/step - loss: 0.0399 - acc: 0.7956 - val_loss: 0.0344 - val_acc: 0.7992\n",
      "Epoch 7/150\n",
      "60000/60000 [==============================] - 70s 1ms/step - loss: 0.0312 - acc: 0.8019 - val_loss: 0.0277 - val_acc: 0.8035\n",
      "Epoch 8/150\n",
      "60000/60000 [==============================] - 70s 1ms/step - loss: 0.0255 - acc: 0.8060 - val_loss: 0.0229 - val_acc: 0.8068\n",
      "Epoch 9/150\n",
      "60000/60000 [==============================] - 71s 1ms/step - loss: 0.0216 - acc: 0.8085 - val_loss: 0.0198 - val_acc: 0.8084\n",
      "Epoch 10/150\n",
      "60000/60000 [==============================] - 71s 1ms/step - loss: 0.0191 - acc: 0.8098 - val_loss: 0.0177 - val_acc: 0.8093\n",
      "Epoch 11/150\n",
      "60000/60000 [==============================] - 71s 1ms/step - loss: 0.0173 - acc: 0.8106 - val_loss: 0.0161 - val_acc: 0.8101\n",
      "Epoch 12/150\n",
      "60000/60000 [==============================] - 70s 1ms/step - loss: 0.0159 - acc: 0.8112 - val_loss: 0.0148 - val_acc: 0.8106\n",
      "Epoch 13/150\n",
      "60000/60000 [==============================] - 70s 1ms/step - loss: 0.0146 - acc: 0.8117 - val_loss: 0.0137 - val_acc: 0.8113\n",
      "Epoch 14/150\n",
      "60000/60000 [==============================] - 71s 1ms/step - loss: 0.0136 - acc: 0.8121 - val_loss: 0.0128 - val_acc: 0.8114\n",
      "Epoch 15/150\n",
      "60000/60000 [==============================] - 70s 1ms/step - loss: 0.0127 - acc: 0.8124 - val_loss: 0.0119 - val_acc: 0.8117\n",
      "Epoch 16/150\n",
      "60000/60000 [==============================] - 70s 1ms/step - loss: 0.0119 - acc: 0.8127 - val_loss: 0.0113 - val_acc: 0.8122\n",
      "Epoch 17/150\n",
      "60000/60000 [==============================] - 70s 1ms/step - loss: 0.0112 - acc: 0.8130 - val_loss: 0.0106 - val_acc: 0.8122\n",
      "Epoch 18/150\n",
      "60000/60000 [==============================] - 70s 1ms/step - loss: 0.0107 - acc: 0.8132 - val_loss: 0.0101 - val_acc: 0.8124\n",
      "Epoch 19/150\n",
      "60000/60000 [==============================] - 71s 1ms/step - loss: 0.0102 - acc: 0.8133 - val_loss: 0.0097 - val_acc: 0.8125\n",
      "Epoch 20/150\n",
      "60000/60000 [==============================] - 71s 1ms/step - loss: 0.0098 - acc: 0.8135 - val_loss: 0.0094 - val_acc: 0.8126\n",
      "Epoch 21/150\n",
      "60000/60000 [==============================] - 71s 1ms/step - loss: 0.0095 - acc: 0.8136 - val_loss: 0.0091 - val_acc: 0.8126\n",
      "Epoch 22/150\n",
      "60000/60000 [==============================] - 70s 1ms/step - loss: 0.0092 - acc: 0.8137 - val_loss: 0.0088 - val_acc: 0.8127\n",
      "Epoch 23/150\n",
      "60000/60000 [==============================] - 70s 1ms/step - loss: 0.0089 - acc: 0.8138 - val_loss: 0.0085 - val_acc: 0.8128\n",
      "Epoch 24/150\n",
      "60000/60000 [==============================] - 70s 1ms/step - loss: 0.0086 - acc: 0.8139 - val_loss: 0.0082 - val_acc: 0.8131\n",
      "Epoch 25/150\n",
      "60000/60000 [==============================] - 70s 1ms/step - loss: 0.0084 - acc: 0.8140 - val_loss: 0.0080 - val_acc: 0.8131\n",
      "Epoch 26/150\n",
      "60000/60000 [==============================] - 71s 1ms/step - loss: 0.0082 - acc: 0.8140 - val_loss: 0.0078 - val_acc: 0.8131\n",
      "Epoch 27/150\n",
      "60000/60000 [==============================] - 71s 1ms/step - loss: 0.0080 - acc: 0.8141 - val_loss: 0.0076 - val_acc: 0.8131\n",
      "Epoch 28/150\n",
      "60000/60000 [==============================] - 70s 1ms/step - loss: 0.0078 - acc: 0.8141 - val_loss: 0.0075 - val_acc: 0.8132\n",
      "Epoch 29/150\n",
      "60000/60000 [==============================] - 71s 1ms/step - loss: 0.0076 - acc: 0.8142 - val_loss: 0.0073 - val_acc: 0.8133\n",
      "Epoch 30/150\n",
      "60000/60000 [==============================] - 70s 1ms/step - loss: 0.0075 - acc: 0.8142 - val_loss: 0.0072 - val_acc: 0.8133\n",
      "Epoch 31/150\n",
      "60000/60000 [==============================] - 70s 1ms/step - loss: 0.0073 - acc: 0.8143 - val_loss: 0.0070 - val_acc: 0.8134\n",
      "Epoch 32/150\n",
      "60000/60000 [==============================] - 70s 1ms/step - loss: 0.0072 - acc: 0.8143 - val_loss: 0.0069 - val_acc: 0.8134\n",
      "Epoch 33/150\n",
      "60000/60000 [==============================] - 70s 1ms/step - loss: 0.0070 - acc: 0.8144 - val_loss: 0.0067 - val_acc: 0.8134\n",
      "Epoch 34/150\n",
      "60000/60000 [==============================] - 70s 1ms/step - loss: 0.0069 - acc: 0.8144 - val_loss: 0.0066 - val_acc: 0.8135\n",
      "Epoch 35/150\n",
      "60000/60000 [==============================] - 71s 1ms/step - loss: 0.0068 - acc: 0.8145 - val_loss: 0.0065 - val_acc: 0.8136\n",
      "Epoch 36/150\n",
      "60000/60000 [==============================] - 71s 1ms/step - loss: 0.0067 - acc: 0.8145 - val_loss: 0.0064 - val_acc: 0.8136\n",
      "Epoch 37/150\n",
      "60000/60000 [==============================] - 71s 1ms/step - loss: 0.0066 - acc: 0.8145 - val_loss: 0.0063 - val_acc: 0.8136\n",
      "Epoch 38/150\n",
      "60000/60000 [==============================] - 70s 1ms/step - loss: 0.0065 - acc: 0.8146 - val_loss: 0.0062 - val_acc: 0.8136\n",
      "Epoch 39/150\n",
      "60000/60000 [==============================] - 71s 1ms/step - loss: 0.0064 - acc: 0.8146 - val_loss: 0.0061 - val_acc: 0.8137\n",
      "Epoch 40/150\n",
      "60000/60000 [==============================] - 71s 1ms/step - loss: 0.0063 - acc: 0.8146 - val_loss: 0.0060 - val_acc: 0.8137\n",
      "Epoch 41/150\n",
      "60000/60000 [==============================] - 70s 1ms/step - loss: 0.0062 - acc: 0.8146 - val_loss: 0.0059 - val_acc: 0.8137\n",
      "Epoch 42/150\n",
      "60000/60000 [==============================] - 70s 1ms/step - loss: 0.0061 - acc: 0.8147 - val_loss: 0.0059 - val_acc: 0.8136\n",
      "Epoch 43/150\n",
      "60000/60000 [==============================] - 70s 1ms/step - loss: 0.0060 - acc: 0.8147 - val_loss: 0.0058 - val_acc: 0.8138\n",
      "Epoch 44/150\n",
      "60000/60000 [==============================] - 70s 1ms/step - loss: 0.0059 - acc: 0.8147 - val_loss: 0.0057 - val_acc: 0.8138\n",
      "Epoch 45/150\n",
      "60000/60000 [==============================] - 70s 1ms/step - loss: 0.0059 - acc: 0.8147 - val_loss: 0.0057 - val_acc: 0.8137\n",
      "Epoch 46/150\n",
      "60000/60000 [==============================] - 70s 1ms/step - loss: 0.0058 - acc: 0.8147 - val_loss: 0.0056 - val_acc: 0.8138\n",
      "Epoch 47/150\n",
      "60000/60000 [==============================] - 70s 1ms/step - loss: 0.0057 - acc: 0.8148 - val_loss: 0.0055 - val_acc: 0.8138\n",
      "Epoch 48/150\n",
      "60000/60000 [==============================] - 70s 1ms/step - loss: 0.0057 - acc: 0.8148 - val_loss: 0.0055 - val_acc: 0.8138\n",
      "Epoch 49/150\n",
      "60000/60000 [==============================] - 71s 1ms/step - loss: 0.0056 - acc: 0.8148 - val_loss: 0.0054 - val_acc: 0.8139\n",
      "Epoch 50/150\n",
      "60000/60000 [==============================] - 70s 1ms/step - loss: 0.0055 - acc: 0.8148 - val_loss: 0.0054 - val_acc: 0.8139\n",
      "Epoch 51/150\n",
      "60000/60000 [==============================] - 70s 1ms/step - loss: 0.0055 - acc: 0.8148 - val_loss: 0.0053 - val_acc: 0.8138\n",
      "Epoch 52/150\n",
      "60000/60000 [==============================] - 70s 1ms/step - loss: 0.0054 - acc: 0.8148 - val_loss: 0.0052 - val_acc: 0.8139\n",
      "Epoch 53/150\n",
      "60000/60000 [==============================] - 70s 1ms/step - loss: 0.0054 - acc: 0.8149 - val_loss: 0.0052 - val_acc: 0.8138\n",
      "Epoch 54/150\n",
      "60000/60000 [==============================] - 70s 1ms/step - loss: 0.0053 - acc: 0.8149 - val_loss: 0.0051 - val_acc: 0.8139\n",
      "Epoch 55/150\n",
      "60000/60000 [==============================] - 70s 1ms/step - loss: 0.0053 - acc: 0.8149 - val_loss: 0.0051 - val_acc: 0.8139\n",
      "Epoch 56/150\n",
      "60000/60000 [==============================] - 70s 1ms/step - loss: 0.0052 - acc: 0.8149 - val_loss: 0.0050 - val_acc: 0.8139\n",
      "Epoch 57/150\n",
      "60000/60000 [==============================] - 70s 1ms/step - loss: 0.0052 - acc: 0.8149 - val_loss: 0.0050 - val_acc: 0.8139\n",
      "Epoch 58/150\n",
      "60000/60000 [==============================] - 71s 1ms/step - loss: 0.0051 - acc: 0.8149 - val_loss: 0.0049 - val_acc: 0.8140\n",
      "Epoch 59/150\n",
      "60000/60000 [==============================] - 70s 1ms/step - loss: 0.0051 - acc: 0.8149 - val_loss: 0.0049 - val_acc: 0.8140\n",
      "Epoch 60/150\n",
      "60000/60000 [==============================] - 70s 1ms/step - loss: 0.0050 - acc: 0.8149 - val_loss: 0.0049 - val_acc: 0.8140\n",
      "Epoch 61/150\n",
      "60000/60000 [==============================] - 70s 1ms/step - loss: 0.0050 - acc: 0.8149 - val_loss: 0.0048 - val_acc: 0.8139\n",
      "Epoch 62/150\n",
      "60000/60000 [==============================] - 70s 1ms/step - loss: 0.0050 - acc: 0.8150 - val_loss: 0.0048 - val_acc: 0.8140\n",
      "Epoch 63/150\n",
      "60000/60000 [==============================] - 70s 1ms/step - loss: 0.0049 - acc: 0.8150 - val_loss: 0.0048 - val_acc: 0.8141\n",
      "Epoch 64/150\n",
      "60000/60000 [==============================] - 70s 1ms/step - loss: 0.0049 - acc: 0.8150 - val_loss: 0.0047 - val_acc: 0.8140\n",
      "Epoch 65/150\n",
      "60000/60000 [==============================] - 70s 1ms/step - loss: 0.0048 - acc: 0.8150 - val_loss: 0.0047 - val_acc: 0.8140\n",
      "Epoch 66/150\n",
      "60000/60000 [==============================] - 70s 1ms/step - loss: 0.0048 - acc: 0.8150 - val_loss: 0.0046 - val_acc: 0.8140\n",
      "Epoch 67/150\n",
      "60000/60000 [==============================] - 70s 1ms/step - loss: 0.0048 - acc: 0.8150 - val_loss: 0.0046 - val_acc: 0.8140\n",
      "Epoch 68/150\n",
      "60000/60000 [==============================] - 70s 1ms/step - loss: 0.0048 - acc: 0.8150 - val_loss: 0.0046 - val_acc: 0.8140\n",
      "Epoch 69/150\n",
      "60000/60000 [==============================] - 70s 1ms/step - loss: 0.0047 - acc: 0.8150 - val_loss: 0.0046 - val_acc: 0.8141\n",
      "Epoch 70/150\n",
      "60000/60000 [==============================] - 70s 1ms/step - loss: 0.0047 - acc: 0.8150 - val_loss: 0.0045 - val_acc: 0.8141\n",
      "Epoch 71/150\n",
      "60000/60000 [==============================] - 70s 1ms/step - loss: 0.0047 - acc: 0.8150 - val_loss: 0.0045 - val_acc: 0.8141\n",
      "Epoch 72/150\n",
      "60000/60000 [==============================] - 70s 1ms/step - loss: 0.0046 - acc: 0.8150 - val_loss: 0.0045 - val_acc: 0.8140\n",
      "Epoch 73/150\n",
      "60000/60000 [==============================] - 70s 1ms/step - loss: 0.0046 - acc: 0.8150 - val_loss: 0.0044 - val_acc: 0.8141\n",
      "Epoch 74/150\n",
      "60000/60000 [==============================] - 70s 1ms/step - loss: 0.0046 - acc: 0.8150 - val_loss: 0.0044 - val_acc: 0.8141\n",
      "Epoch 75/150\n",
      "60000/60000 [==============================] - 70s 1ms/step - loss: 0.0045 - acc: 0.8150 - val_loss: 0.0044 - val_acc: 0.8141\n",
      "Epoch 76/150\n",
      "60000/60000 [==============================] - 71s 1ms/step - loss: 0.0045 - acc: 0.8151 - val_loss: 0.0044 - val_acc: 0.8140\n",
      "Epoch 77/150\n",
      "60000/60000 [==============================] - 71s 1ms/step - loss: 0.0045 - acc: 0.8151 - val_loss: 0.0043 - val_acc: 0.8141\n",
      "Epoch 78/150\n",
      "60000/60000 [==============================] - 71s 1ms/step - loss: 0.0045 - acc: 0.8151 - val_loss: 0.0043 - val_acc: 0.8141\n",
      "Epoch 79/150\n",
      "60000/60000 [==============================] - 71s 1ms/step - loss: 0.0044 - acc: 0.8151 - val_loss: 0.0043 - val_acc: 0.8141\n",
      "Epoch 80/150\n",
      "60000/60000 [==============================] - 71s 1ms/step - loss: 0.0044 - acc: 0.8151 - val_loss: 0.0043 - val_acc: 0.8141\n",
      "Epoch 81/150\n",
      "60000/60000 [==============================] - 70s 1ms/step - loss: 0.0044 - acc: 0.8151 - val_loss: 0.0042 - val_acc: 0.8141\n",
      "Epoch 82/150\n",
      "60000/60000 [==============================] - 70s 1ms/step - loss: 0.0044 - acc: 0.8151 - val_loss: 0.0042 - val_acc: 0.8141\n",
      "Epoch 83/150\n",
      "60000/60000 [==============================] - 70s 1ms/step - loss: 0.0043 - acc: 0.8151 - val_loss: 0.0042 - val_acc: 0.8141\n",
      "Epoch 84/150\n",
      "60000/60000 [==============================] - 70s 1ms/step - loss: 0.0043 - acc: 0.8151 - val_loss: 0.0042 - val_acc: 0.8142\n",
      "Epoch 85/150\n",
      "60000/60000 [==============================] - 70s 1ms/step - loss: 0.0043 - acc: 0.8151 - val_loss: 0.0042 - val_acc: 0.8142\n",
      "Epoch 86/150\n",
      "60000/60000 [==============================] - 70s 1ms/step - loss: 0.0043 - acc: 0.8151 - val_loss: 0.0041 - val_acc: 0.8141\n",
      "Epoch 87/150\n",
      "60000/60000 [==============================] - 70s 1ms/step - loss: 0.0042 - acc: 0.8151 - val_loss: 0.0041 - val_acc: 0.8141\n",
      "Epoch 88/150\n",
      "60000/60000 [==============================] - 71s 1ms/step - loss: 0.0042 - acc: 0.8151 - val_loss: 0.0041 - val_acc: 0.8141\n",
      "Epoch 89/150\n",
      "60000/60000 [==============================] - 71s 1ms/step - loss: 0.0042 - acc: 0.8151 - val_loss: 0.0041 - val_acc: 0.8141\n",
      "Epoch 90/150\n",
      "60000/60000 [==============================] - 71s 1ms/step - loss: 0.0042 - acc: 0.8151 - val_loss: 0.0040 - val_acc: 0.8142\n",
      "Epoch 91/150\n",
      "60000/60000 [==============================] - 70s 1ms/step - loss: 0.0042 - acc: 0.8151 - val_loss: 0.0040 - val_acc: 0.8142\n",
      "Epoch 92/150\n",
      "60000/60000 [==============================] - 70s 1ms/step - loss: 0.0041 - acc: 0.8151 - val_loss: 0.0040 - val_acc: 0.8142\n",
      "Epoch 93/150\n",
      "60000/60000 [==============================] - 71s 1ms/step - loss: 0.0041 - acc: 0.8151 - val_loss: 0.0040 - val_acc: 0.8142\n",
      "Epoch 94/150\n",
      "60000/60000 [==============================] - 71s 1ms/step - loss: 0.0041 - acc: 0.8151 - val_loss: 0.0040 - val_acc: 0.8142\n",
      "Epoch 95/150\n",
      "60000/60000 [==============================] - 71s 1ms/step - loss: 0.0041 - acc: 0.8151 - val_loss: 0.0040 - val_acc: 0.8142\n",
      "Epoch 96/150\n",
      "60000/60000 [==============================] - 71s 1ms/step - loss: 0.0041 - acc: 0.8152 - val_loss: 0.0039 - val_acc: 0.8142\n",
      "Epoch 97/150\n",
      "60000/60000 [==============================] - 71s 1ms/step - loss: 0.0041 - acc: 0.8152 - val_loss: 0.0039 - val_acc: 0.8142\n",
      "Epoch 98/150\n",
      "60000/60000 [==============================] - 71s 1ms/step - loss: 0.0040 - acc: 0.8152 - val_loss: 0.0039 - val_acc: 0.8142\n",
      "Epoch 99/150\n",
      "60000/60000 [==============================] - 71s 1ms/step - loss: 0.0040 - acc: 0.8152 - val_loss: 0.0039 - val_acc: 0.8142\n",
      "Epoch 100/150\n",
      "60000/60000 [==============================] - 71s 1ms/step - loss: 0.0040 - acc: 0.8152 - val_loss: 0.0039 - val_acc: 0.8142\n",
      "Epoch 101/150\n",
      "60000/60000 [==============================] - 70s 1ms/step - loss: 0.0040 - acc: 0.8152 - val_loss: 0.0039 - val_acc: 0.8142\n",
      "Epoch 102/150\n",
      "60000/60000 [==============================] - 71s 1ms/step - loss: 0.0040 - acc: 0.8152 - val_loss: 0.0038 - val_acc: 0.8142\n",
      "Epoch 103/150\n",
      "60000/60000 [==============================] - 71s 1ms/step - loss: 0.0040 - acc: 0.8152 - val_loss: 0.0038 - val_acc: 0.8142\n",
      "Epoch 104/150\n",
      "60000/60000 [==============================] - 71s 1ms/step - loss: 0.0039 - acc: 0.8152 - val_loss: 0.0038 - val_acc: 0.8142\n",
      "Epoch 105/150\n",
      "60000/60000 [==============================] - 71s 1ms/step - loss: 0.0039 - acc: 0.8152 - val_loss: 0.0038 - val_acc: 0.8142\n",
      "Epoch 106/150\n",
      "60000/60000 [==============================] - 71s 1ms/step - loss: 0.0039 - acc: 0.8152 - val_loss: 0.0038 - val_acc: 0.8142\n",
      "Epoch 107/150\n",
      "60000/60000 [==============================] - 71s 1ms/step - loss: 0.0039 - acc: 0.8152 - val_loss: 0.0038 - val_acc: 0.8142\n",
      "Epoch 108/150\n",
      "60000/60000 [==============================] - 71s 1ms/step - loss: 0.0039 - acc: 0.8152 - val_loss: 0.0038 - val_acc: 0.8142\n",
      "Epoch 109/150\n",
      "60000/60000 [==============================] - 71s 1ms/step - loss: 0.0039 - acc: 0.8152 - val_loss: 0.0037 - val_acc: 0.8142\n",
      "Epoch 110/150\n",
      "60000/60000 [==============================] - 71s 1ms/step - loss: 0.0039 - acc: 0.8152 - val_loss: 0.0037 - val_acc: 0.8142\n",
      "Epoch 111/150\n",
      "60000/60000 [==============================] - 71s 1ms/step - loss: 0.0039 - acc: 0.8152 - val_loss: 0.0037 - val_acc: 0.8142\n",
      "Epoch 112/150\n",
      "60000/60000 [==============================] - 71s 1ms/step - loss: 0.0038 - acc: 0.8152 - val_loss: 0.0037 - val_acc: 0.8142\n",
      "Epoch 113/150\n",
      "60000/60000 [==============================] - 71s 1ms/step - loss: 0.0038 - acc: 0.8152 - val_loss: 0.0037 - val_acc: 0.8142\n",
      "Epoch 114/150\n",
      "60000/60000 [==============================] - 70s 1ms/step - loss: 0.0038 - acc: 0.8152 - val_loss: 0.0037 - val_acc: 0.8142\n",
      "Epoch 115/150\n",
      "60000/60000 [==============================] - 70s 1ms/step - loss: 0.0038 - acc: 0.8152 - val_loss: 0.0037 - val_acc: 0.8143\n",
      "Epoch 116/150\n",
      "60000/60000 [==============================] - 70s 1ms/step - loss: 0.0038 - acc: 0.8152 - val_loss: 0.0037 - val_acc: 0.8142\n",
      "Epoch 117/150\n",
      "60000/60000 [==============================] - 70s 1ms/step - loss: 0.0038 - acc: 0.8152 - val_loss: 0.0036 - val_acc: 0.8143\n",
      "Epoch 118/150\n",
      "60000/60000 [==============================] - 70s 1ms/step - loss: 0.0038 - acc: 0.8152 - val_loss: 0.0036 - val_acc: 0.8142\n",
      "Epoch 119/150\n",
      "60000/60000 [==============================] - 71s 1ms/step - loss: 0.0037 - acc: 0.8152 - val_loss: 0.0036 - val_acc: 0.8142\n",
      "Epoch 120/150\n",
      "60000/60000 [==============================] - 71s 1ms/step - loss: 0.0037 - acc: 0.8152 - val_loss: 0.0036 - val_acc: 0.8142\n",
      "Epoch 121/150\n",
      "60000/60000 [==============================] - 71s 1ms/step - loss: 0.0037 - acc: 0.8152 - val_loss: 0.0036 - val_acc: 0.8142\n",
      "Epoch 122/150\n",
      "60000/60000 [==============================] - 71s 1ms/step - loss: 0.0037 - acc: 0.8152 - val_loss: 0.0036 - val_acc: 0.8142\n",
      "Epoch 123/150\n",
      "60000/60000 [==============================] - 71s 1ms/step - loss: 0.0037 - acc: 0.8152 - val_loss: 0.0036 - val_acc: 0.8142\n",
      "Epoch 124/150\n",
      "60000/60000 [==============================] - 71s 1ms/step - loss: 0.0037 - acc: 0.8152 - val_loss: 0.0036 - val_acc: 0.8143\n",
      "Epoch 125/150\n",
      "60000/60000 [==============================] - 71s 1ms/step - loss: 0.0037 - acc: 0.8152 - val_loss: 0.0036 - val_acc: 0.8142\n",
      "Epoch 126/150\n",
      "60000/60000 [==============================] - 71s 1ms/step - loss: 0.0037 - acc: 0.8152 - val_loss: 0.0035 - val_acc: 0.8143\n",
      "Epoch 127/150\n",
      "60000/60000 [==============================] - 71s 1ms/step - loss: 0.0037 - acc: 0.8152 - val_loss: 0.0035 - val_acc: 0.8143\n",
      "Epoch 128/150\n",
      "60000/60000 [==============================] - 71s 1ms/step - loss: 0.0036 - acc: 0.8152 - val_loss: 0.0035 - val_acc: 0.8143\n",
      "Epoch 129/150\n",
      "60000/60000 [==============================] - 71s 1ms/step - loss: 0.0036 - acc: 0.8152 - val_loss: 0.0035 - val_acc: 0.8143\n",
      "Epoch 130/150\n",
      "60000/60000 [==============================] - 71s 1ms/step - loss: 0.0036 - acc: 0.8152 - val_loss: 0.0035 - val_acc: 0.8143\n",
      "Epoch 131/150\n",
      "60000/60000 [==============================] - 71s 1ms/step - loss: 0.0036 - acc: 0.8152 - val_loss: 0.0035 - val_acc: 0.8143\n",
      "Epoch 132/150\n",
      "60000/60000 [==============================] - 71s 1ms/step - loss: 0.0036 - acc: 0.8152 - val_loss: 0.0035 - val_acc: 0.8143\n",
      "Epoch 133/150\n",
      "60000/60000 [==============================] - 71s 1ms/step - loss: 0.0036 - acc: 0.8152 - val_loss: 0.0035 - val_acc: 0.8143\n",
      "Epoch 134/150\n",
      "60000/60000 [==============================] - 71s 1ms/step - loss: 0.0036 - acc: 0.8152 - val_loss: 0.0035 - val_acc: 0.8142\n",
      "Epoch 135/150\n",
      "60000/60000 [==============================] - 71s 1ms/step - loss: 0.0036 - acc: 0.8152 - val_loss: 0.0035 - val_acc: 0.8143\n",
      "Epoch 136/150\n",
      "60000/60000 [==============================] - 71s 1ms/step - loss: 0.0036 - acc: 0.8152 - val_loss: 0.0035 - val_acc: 0.8143\n",
      "Epoch 137/150\n",
      "60000/60000 [==============================] - 71s 1ms/step - loss: 0.0036 - acc: 0.8152 - val_loss: 0.0035 - val_acc: 0.8143\n",
      "Epoch 138/150\n",
      "60000/60000 [==============================] - 71s 1ms/step - loss: 0.0036 - acc: 0.8152 - val_loss: 0.0034 - val_acc: 0.8143\n",
      "Epoch 139/150\n",
      "60000/60000 [==============================] - 71s 1ms/step - loss: 0.0036 - acc: 0.8152 - val_loss: 0.0034 - val_acc: 0.8143\n",
      "Epoch 140/150\n",
      "60000/60000 [==============================] - 71s 1ms/step - loss: 0.0035 - acc: 0.8152 - val_loss: 0.0034 - val_acc: 0.8143\n",
      "Epoch 141/150\n",
      "60000/60000 [==============================] - 71s 1ms/step - loss: 0.0035 - acc: 0.8152 - val_loss: 0.0034 - val_acc: 0.8143\n",
      "Epoch 142/150\n",
      "60000/60000 [==============================] - 71s 1ms/step - loss: 0.0035 - acc: 0.8152 - val_loss: 0.0034 - val_acc: 0.8143\n",
      "Epoch 143/150\n",
      "60000/60000 [==============================] - 71s 1ms/step - loss: 0.0035 - acc: 0.8152 - val_loss: 0.0034 - val_acc: 0.8143\n",
      "Epoch 144/150\n",
      "60000/60000 [==============================] - 71s 1ms/step - loss: 0.0035 - acc: 0.8152 - val_loss: 0.0034 - val_acc: 0.8143\n",
      "Epoch 145/150\n",
      "60000/60000 [==============================] - 71s 1ms/step - loss: 0.0035 - acc: 0.8152 - val_loss: 0.0034 - val_acc: 0.8143\n",
      "Epoch 146/150\n",
      "60000/60000 [==============================] - 71s 1ms/step - loss: 0.0035 - acc: 0.8152 - val_loss: 0.0034 - val_acc: 0.8143\n",
      "Epoch 147/150\n",
      "60000/60000 [==============================] - 71s 1ms/step - loss: 0.0035 - acc: 0.8152 - val_loss: 0.0034 - val_acc: 0.8143\n",
      "Epoch 148/150\n",
      "60000/60000 [==============================] - 71s 1ms/step - loss: 0.0035 - acc: 0.8152 - val_loss: 0.0034 - val_acc: 0.8143\n",
      "Epoch 149/150\n",
      "60000/60000 [==============================] - 71s 1ms/step - loss: 0.0035 - acc: 0.8152 - val_loss: 0.0034 - val_acc: 0.8143\n",
      "Epoch 150/150\n",
      "60000/60000 [==============================] - 71s 1ms/step - loss: 0.0035 - acc: 0.8152 - val_loss: 0.0034 - val_acc: 0.8143\n"
     ]
    }
   ],
   "source": [
    "#Create Convolutional AutoEncoder Architecture\n",
    "def cae():\n",
    "    model = Sequential()\n",
    "    \n",
    "          \n",
    "    model.add(Conv2D(16,\n",
    "                     (3,3),\n",
    "                     activation='sigmoid',\n",
    "                     padding='same',\n",
    "                     input_shape=(28,28,1)))\n",
    "    \n",
    "    model.add(MaxPooling2D((2,2),\n",
    "                           padding='same'\n",
    "                           ))\n",
    "    model.add(Conv2D(8,\n",
    "                     (3,3),\n",
    "                     activation='sigmoid',\n",
    "                     padding='same'))\n",
    "    \n",
    "    model.add(MaxPooling2D(pool_size=(2,2),\n",
    "                           padding='same',\n",
    "                           ))\n",
    "    model.add(Conv2D(8,\n",
    "                     (3,3),\n",
    "                     activation='sigmoid',\n",
    "                     padding='same'))\n",
    "    model.add(UpSampling2D((2,2)))\n",
    "    model.add(Conv2D(16,\n",
    "                     (3,3),\n",
    "                     activation='sigmoid',\n",
    "                     padding='same'))\n",
    "    model.add(UpSampling2D((2,2)))\n",
    "    model.add(Conv2D(1,\n",
    "                     (3,3),\n",
    "                     activation='sigmoid',\n",
    "                     padding='same',\n",
    "                     ))\n",
    "    return model\n",
    "\n",
    "#Create deep autoencoder graph\n",
    "conv_ae = cae()\n",
    "\n",
    "#Compile model using an appropriate loss and optimizer algorithm\n",
    "\n",
    "conv_ae.compile(loss='mse',\n",
    "                 optimizer='adam',\n",
    "                 metrics=['accuracy'])\n",
    "\n",
    "#Train the model and assign training meta-data to a variable\n",
    "\n",
    "conv_ae_data = conv_ae.fit(x_train, x_train, validation_data=(x_test, x_test), epochs=150, batch_size=512, shuffle=True)\n",
    "\n",
    "#Calculate the reconstructions of the testing set (output of autoencoder on test set)\n",
    "\n",
    "reconstructed_images_conv=conv_ae.predict(x_test)\n",
    "\n",
    "\n",
    "#Obtain encoder representation of data\n",
    "get_hl = K.function([conv_ae.layers[0].input], [conv_ae.layers[3].output])  # The fourth hidden layer are indexed at 3\n",
    "conv_ae_hl = get_hl([x_test])[0]"
   ]
  },
  {
   "cell_type": "code",
   "execution_count": 0,
   "metadata": {
    "colab": {
     "base_uri": "https://localhost:8080/",
     "height": 295
    },
    "colab_type": "code",
    "id": "7sVJO4y1ujCZ",
    "outputId": "ef6760af-2353-40a8-d5cc-dd43d6c82dfe"
   },
   "outputs": [
    {
     "data": {
      "image/png": "[encoded data removed]",
      "text/plain": [
       "<Figure size 432x288 with 1 Axes>"
      ]
     },
     "metadata": {
      "tags": []
     },
     "output_type": "display_data"
    }
   ],
   "source": [
    "#Plot loss vs epoch\n",
    "\n",
    "plt.plot(conv_ae_data.history['loss'])\n",
    "plt.plot(conv_ae_data.history['val_loss'])\n",
    "plt.title('model loss')\n",
    "plt.ylabel('loss')\n",
    "plt.xlabel('epoch')\n",
    "plt.legend(['train', 'test'], loc='upper left')\n",
    "plt.show()"
   ]
  },
  {
   "cell_type": "code",
   "execution_count": 0,
   "metadata": {
    "colab": {
     "base_uri": "https://localhost:8080/",
     "height": 83
    },
    "colab_type": "code",
    "id": "KcclERBAu0-u",
    "outputId": "2acb4a6a-a9db-45ea-bfca-d25d3306a05f"
   },
   "outputs": [
    {
     "name": "stdout",
     "output_type": "stream",
     "text": [
      "10 test sample images\n"
     ]
    },
    {
     "data": {
      "image/png": "[encoded data removed]",
      "text/plain": [
       "<Figure size 432x288 with 10 Axes>"
      ]
     },
     "metadata": {
      "tags": []
     },
     "output_type": "display_data"
    }
   ],
   "source": [
    "#Show samples of 10 images, their hidden layer representations, and their reconstructions\n",
    "\n",
    "\n",
    "print(\"10 test sample images\")\n",
    "n=10\n",
    "plt.figure()\n",
    "for i in range(n):\n",
    "  ax=plt.subplot(2,10,i+1)\n",
    "  plt.imshow(x_test[i].reshape((28,28)))\n",
    "  plt.gray()\n",
    "  ax.get_xaxis().set_visible(False)\n",
    "  ax.get_yaxis().set_visible(False)\n",
    "  "
   ]
  },
  {
   "cell_type": "code",
   "execution_count": 0,
   "metadata": {
    "colab": {
     "base_uri": "https://localhost:8080/",
     "height": 112
    },
    "colab_type": "code",
    "id": "qGiOkimZrUt_",
    "outputId": "9adf53bf-38da-42b0-95e7-b68d3f9ae2df"
   },
   "outputs": [
    {
     "name": "stdout",
     "output_type": "stream",
     "text": [
      "first 10 images of the bottleneck layer\n"
     ]
    },
    {
     "data": {
      "image/png": "[encoded data removed]",
      "text/plain": [
       "<Figure size 432x288 with 10 Axes>"
      ]
     },
     "metadata": {
      "tags": []
     },
     "output_type": "display_data"
    }
   ],
   "source": [
    "print(\"first 10 images of the bottleneck layer\")\n",
    "n=10\n",
    "plt.figure()\n",
    "for i in range(n):\n",
    "  ax=plt.subplot(2,10,i+1)\n",
    "  plt.imshow(conv_ae_hl[i].reshape((28,14)))\n",
    "  plt.gray()\n",
    "  ax.get_xaxis().set_visible(False)\n",
    "  ax.get_yaxis().set_visible(False)"
   ]
  },
  {
   "cell_type": "code",
   "execution_count": 0,
   "metadata": {
    "colab": {
     "base_uri": "https://localhost:8080/",
     "height": 83
    },
    "colab_type": "code",
    "id": "8SbFPZ6BrczD",
    "outputId": "a8cd1a3a-ec04-4efb-8e9f-abd1b82dbc6f"
   },
   "outputs": [
    {
     "name": "stdout",
     "output_type": "stream",
     "text": [
      "10 reconstructed sample images\n"
     ]
    },
    {
     "data": {
      "image/png": "[encoded data removed]",
      "text/plain": [
       "<Figure size 432x288 with 10 Axes>"
      ]
     },
     "metadata": {
      "tags": []
     },
     "output_type": "display_data"
    }
   ],
   "source": [
    "print(\"10 reconstructed sample images\")\n",
    "n=10\n",
    "plt.figure()\n",
    "for i in range(n):\n",
    "  ax=plt.subplot(2,10,i+1)\n",
    "  plt.imshow(reconstructed_images_conv[i].reshape((28,28)))\n",
    "  plt.gray()\n",
    "  ax.get_xaxis().set_visible(False)\n",
    "  ax.get_yaxis().set_visible(False)"
   ]
  },
  {
   "cell_type": "markdown",
   "metadata": {
    "colab_type": "text",
    "id": "6QfcpOPXvezs"
   },
   "source": [
    "#Part 3: Denoising AutoEncoder"
   ]
  },
  {
   "cell_type": "code",
   "execution_count": 0,
   "metadata": {
    "colab": {},
    "colab_type": "code",
    "id": "c-lVJ3pfvhT5"
   },
   "outputs": [],
   "source": [
    "#Inject noise into testing data\n",
    "noise_factor = 0.25\n",
    "data_train_noisy = data_train + noise_factor * np.random.normal(loc=0.0, scale=1.0, size=data_train.shape)\n",
    "data_test_noisy = data_test + noise_factor * np.random.normal(loc=0.0, scale=1.0, size=data_test.shape)\n",
    "\n",
    "#Clip to stay within valid (normalized) pixel range\n",
    "data_train_noisy = np.clip(data_train_noisy, 0., 1.)\n",
    "data_test_noisy = np.clip(data_test_noisy, 0., 1.)\n",
    "\n",
    "#Reshape data to comply with input of denoising autoencoder\n",
    "x_train = np.array(data_train_noisy).reshape(60000,28,28,1)\n",
    "x_test = np.array(data_test_noisy).reshape(10000,28,28,1)"
   ]
  },
  {
   "cell_type": "code",
   "execution_count": 0,
   "metadata": {
    "colab": {
     "base_uri": "https://localhost:8080/",
     "height": 83
    },
    "colab_type": "code",
    "id": "J4zyjNfawzpU",
    "outputId": "980001f3-86d1-4cdb-a6fc-96e41da50ee1"
   },
   "outputs": [
    {
     "name": "stdout",
     "output_type": "stream",
     "text": [
      "10 training sample images\n"
     ]
    },
    {
     "data": {
      "image/png": "[encoded data removed]",
      "text/plain": [
       "<Figure size 432x288 with 10 Axes>"
      ]
     },
     "metadata": {
      "tags": []
     },
     "output_type": "display_data"
    }
   ],
   "source": [
    "#Show samples of 10 original images and their corrsponding noisy counterparts from the training set\n",
    "print(\"10 training sample images\")\n",
    "n=10\n",
    "plt.figure()\n",
    "for i in range(n):\n",
    "  ax=plt.subplot(2,10,i+1)\n",
    "  plt.imshow(data_train[i].reshape((28,28)))\n",
    "  plt.gray()\n",
    "  ax.get_xaxis().set_visible(False)\n",
    "  ax.get_yaxis().set_visible(False)"
   ]
  },
  {
   "cell_type": "code",
   "execution_count": 0,
   "metadata": {
    "colab": {
     "base_uri": "https://localhost:8080/",
     "height": 83
    },
    "colab_type": "code",
    "id": "Jamd2BKJSQGE",
    "outputId": "bbfe588c-54e3-4ece-b5cf-a99816186d1a"
   },
   "outputs": [
    {
     "name": "stdout",
     "output_type": "stream",
     "text": [
      "10 training sample images after injecting Gaussian Noise\n"
     ]
    },
    {
     "data": {
      "image/png": "[encoded data removed]",
      "text/plain": [
       "<Figure size 432x288 with 10 Axes>"
      ]
     },
     "metadata": {
      "tags": []
     },
     "output_type": "display_data"
    }
   ],
   "source": [
    "print(\"10 training sample images after injecting Gaussian Noise\")\n",
    "n=10\n",
    "plt.figure()\n",
    "for i in range(n):\n",
    "  ax=plt.subplot(2,10,i+1)\n",
    "  plt.imshow(data_train_noisy[i].reshape((28,28)))\n",
    "  plt.gray()\n",
    "  ax.get_xaxis().set_visible(False)\n",
    "  ax.get_yaxis().set_visible(False)"
   ]
  },
  {
   "cell_type": "code",
   "execution_count": 0,
   "metadata": {
    "colab": {
     "base_uri": "https://localhost:8080/",
     "height": 1000
    },
    "colab_type": "code",
    "id": "2nuk3UxSxD9D",
    "outputId": "2db7f6b7-ddee-41a3-88dc-58f965308ae1"
   },
   "outputs": [
    {
     "name": "stderr",
     "output_type": "stream",
     "text": [
      "WARNING: Logging before flag parsing goes to stderr.\n",
      "W1001 07:34:04.863253 140244466902912 deprecation_wrapper.py:119] From /usr/local/lib/python2.7/dist-packages/keras/backend/tensorflow_backend.py:74: The name tf.get_default_graph is deprecated. Please use tf.compat.v1.get_default_graph instead.\n",
      "\n",
      "W1001 07:34:04.906464 140244466902912 deprecation_wrapper.py:119] From /usr/local/lib/python2.7/dist-packages/keras/backend/tensorflow_backend.py:517: The name tf.placeholder is deprecated. Please use tf.compat.v1.placeholder instead.\n",
      "\n",
      "W1001 07:34:04.917335 140244466902912 deprecation_wrapper.py:119] From /usr/local/lib/python2.7/dist-packages/keras/backend/tensorflow_backend.py:4138: The name tf.random_uniform is deprecated. Please use tf.random.uniform instead.\n",
      "\n",
      "W1001 07:34:04.961072 140244466902912 deprecation_wrapper.py:119] From /usr/local/lib/python2.7/dist-packages/keras/backend/tensorflow_backend.py:3976: The name tf.nn.max_pool is deprecated. Please use tf.nn.max_pool2d instead.\n",
      "\n",
      "W1001 07:34:04.997801 140244466902912 deprecation_wrapper.py:119] From /usr/local/lib/python2.7/dist-packages/keras/backend/tensorflow_backend.py:2018: The name tf.image.resize_nearest_neighbor is deprecated. Please use tf.compat.v1.image.resize_nearest_neighbor instead.\n",
      "\n",
      "W1001 07:34:05.033505 140244466902912 deprecation_wrapper.py:119] From /usr/local/lib/python2.7/dist-packages/keras/optimizers.py:790: The name tf.train.Optimizer is deprecated. Please use tf.compat.v1.train.Optimizer instead.\n",
      "\n",
      "W1001 07:34:05.240617 140244466902912 deprecation_wrapper.py:119] From /usr/local/lib/python2.7/dist-packages/keras/backend/tensorflow_backend.py:986: The name tf.assign_add is deprecated. Please use tf.compat.v1.assign_add instead.\n",
      "\n",
      "W1001 07:34:05.391424 140244466902912 deprecation_wrapper.py:119] From /usr/local/lib/python2.7/dist-packages/keras/backend/tensorflow_backend.py:973: The name tf.assign is deprecated. Please use tf.compat.v1.assign instead.\n",
      "\n"
     ]
    },
    {
     "name": "stdout",
     "output_type": "stream",
     "text": [
      "Train on 60000 samples, validate on 10000 samples\n",
      "Epoch 1/150\n",
      "60000/60000 [==============================] - 75s 1ms/step - loss: 0.0904 - acc: 0.4167 - val_loss: 0.0830 - val_acc: 0.4172\n",
      "Epoch 2/150\n",
      "60000/60000 [==============================] - 74s 1ms/step - loss: 0.0735 - acc: 0.4183 - val_loss: 0.0631 - val_acc: 0.4210\n",
      "Epoch 3/150\n",
      "60000/60000 [==============================] - 73s 1ms/step - loss: 0.0579 - acc: 0.4289 - val_loss: 0.0538 - val_acc: 0.4365\n",
      "Epoch 4/150\n",
      "60000/60000 [==============================] - 73s 1ms/step - loss: 0.0510 - acc: 0.4402 - val_loss: 0.0485 - val_acc: 0.4443\n",
      "Epoch 5/150\n",
      "60000/60000 [==============================] - 73s 1ms/step - loss: 0.0471 - acc: 0.4456 - val_loss: 0.0453 - val_acc: 0.4478\n",
      "Epoch 6/150\n",
      "60000/60000 [==============================] - 73s 1ms/step - loss: 0.0441 - acc: 0.4490 - val_loss: 0.0425 - val_acc: 0.4512\n",
      "Epoch 7/150\n",
      "60000/60000 [==============================] - 73s 1ms/step - loss: 0.0416 - acc: 0.4516 - val_loss: 0.0402 - val_acc: 0.4535\n",
      "Epoch 8/150\n",
      "60000/60000 [==============================] - 73s 1ms/step - loss: 0.0393 - acc: 0.4538 - val_loss: 0.0382 - val_acc: 0.4553\n",
      "Epoch 9/150\n",
      "60000/60000 [==============================] - 73s 1ms/step - loss: 0.0375 - acc: 0.4554 - val_loss: 0.0365 - val_acc: 0.4566\n",
      "Epoch 10/150\n",
      "60000/60000 [==============================] - 73s 1ms/step - loss: 0.0362 - acc: 0.4566 - val_loss: 0.0354 - val_acc: 0.4576\n",
      "Epoch 11/150\n",
      "60000/60000 [==============================] - 73s 1ms/step - loss: 0.0352 - acc: 0.4574 - val_loss: 0.0345 - val_acc: 0.4583\n",
      "Epoch 12/150\n",
      "60000/60000 [==============================] - 73s 1ms/step - loss: 0.0344 - acc: 0.4580 - val_loss: 0.0338 - val_acc: 0.4589\n",
      "Epoch 13/150\n",
      "60000/60000 [==============================] - 74s 1ms/step - loss: 0.0337 - acc: 0.4586 - val_loss: 0.0331 - val_acc: 0.4595\n",
      "Epoch 14/150\n",
      "60000/60000 [==============================] - 74s 1ms/step - loss: 0.0330 - acc: 0.4592 - val_loss: 0.0324 - val_acc: 0.4600\n",
      "Epoch 15/150\n",
      "60000/60000 [==============================] - 74s 1ms/step - loss: 0.0324 - acc: 0.4597 - val_loss: 0.0319 - val_acc: 0.4604\n",
      "Epoch 16/150\n",
      "60000/60000 [==============================] - 74s 1ms/step - loss: 0.0319 - acc: 0.4601 - val_loss: 0.0314 - val_acc: 0.4608\n",
      "Epoch 17/150\n",
      "60000/60000 [==============================] - 73s 1ms/step - loss: 0.0315 - acc: 0.4605 - val_loss: 0.0310 - val_acc: 0.4611\n",
      "Epoch 18/150\n",
      "60000/60000 [==============================] - 74s 1ms/step - loss: 0.0311 - acc: 0.4607 - val_loss: 0.0307 - val_acc: 0.4613\n",
      "Epoch 19/150\n",
      "60000/60000 [==============================] - 74s 1ms/step - loss: 0.0308 - acc: 0.4610 - val_loss: 0.0304 - val_acc: 0.4616\n",
      "Epoch 20/150\n",
      "60000/60000 [==============================] - 73s 1ms/step - loss: 0.0305 - acc: 0.4612 - val_loss: 0.0301 - val_acc: 0.4618\n",
      "Epoch 21/150\n",
      "60000/60000 [==============================] - 74s 1ms/step - loss: 0.0302 - acc: 0.4614 - val_loss: 0.0299 - val_acc: 0.4619\n",
      "Epoch 22/150\n",
      "60000/60000 [==============================] - 74s 1ms/step - loss: 0.0300 - acc: 0.4615 - val_loss: 0.0296 - val_acc: 0.4621\n",
      "Epoch 23/150\n",
      "60000/60000 [==============================] - 74s 1ms/step - loss: 0.0298 - acc: 0.4617 - val_loss: 0.0294 - val_acc: 0.4622\n",
      "Epoch 24/150\n",
      "60000/60000 [==============================] - 74s 1ms/step - loss: 0.0296 - acc: 0.4618 - val_loss: 0.0292 - val_acc: 0.4623\n",
      "Epoch 25/150\n",
      "60000/60000 [==============================] - 74s 1ms/step - loss: 0.0294 - acc: 0.4619 - val_loss: 0.0291 - val_acc: 0.4624\n",
      "Epoch 26/150\n",
      "60000/60000 [==============================] - 74s 1ms/step - loss: 0.0292 - acc: 0.4620 - val_loss: 0.0289 - val_acc: 0.4625\n",
      "Epoch 27/150\n",
      "60000/60000 [==============================] - 74s 1ms/step - loss: 0.0290 - acc: 0.4621 - val_loss: 0.0287 - val_acc: 0.4626\n",
      "Epoch 28/150\n",
      "60000/60000 [==============================] - 74s 1ms/step - loss: 0.0289 - acc: 0.4622 - val_loss: 0.0286 - val_acc: 0.4627\n",
      "Epoch 29/150\n",
      "60000/60000 [==============================] - 74s 1ms/step - loss: 0.0287 - acc: 0.4623 - val_loss: 0.0284 - val_acc: 0.4628\n",
      "Epoch 30/150\n",
      "60000/60000 [==============================] - 74s 1ms/step - loss: 0.0286 - acc: 0.4624 - val_loss: 0.0283 - val_acc: 0.4629\n",
      "Epoch 31/150\n",
      "60000/60000 [==============================] - 74s 1ms/step - loss: 0.0284 - acc: 0.4625 - val_loss: 0.0281 - val_acc: 0.4630\n",
      "Epoch 32/150\n",
      "60000/60000 [==============================] - 74s 1ms/step - loss: 0.0283 - acc: 0.4626 - val_loss: 0.0280 - val_acc: 0.4630\n",
      "Epoch 33/150\n",
      "60000/60000 [==============================] - 75s 1ms/step - loss: 0.0281 - acc: 0.4626 - val_loss: 0.0278 - val_acc: 0.4631\n",
      "Epoch 34/150\n",
      "60000/60000 [==============================] - 75s 1ms/step - loss: 0.0280 - acc: 0.4627 - val_loss: 0.0277 - val_acc: 0.4632\n",
      "Epoch 35/150\n",
      "60000/60000 [==============================] - 75s 1ms/step - loss: 0.0279 - acc: 0.4628 - val_loss: 0.0276 - val_acc: 0.4633\n",
      "Epoch 36/150\n",
      "60000/60000 [==============================] - 74s 1ms/step - loss: 0.0277 - acc: 0.4628 - val_loss: 0.0275 - val_acc: 0.4633\n",
      "Epoch 37/150\n",
      "60000/60000 [==============================] - 74s 1ms/step - loss: 0.0276 - acc: 0.4629 - val_loss: 0.0274 - val_acc: 0.4634\n",
      "Epoch 38/150\n",
      "60000/60000 [==============================] - 74s 1ms/step - loss: 0.0275 - acc: 0.4629 - val_loss: 0.0273 - val_acc: 0.4634\n",
      "Epoch 39/150\n",
      "60000/60000 [==============================] - 74s 1ms/step - loss: 0.0274 - acc: 0.4630 - val_loss: 0.0272 - val_acc: 0.4634\n",
      "Epoch 40/150\n",
      "60000/60000 [==============================] - 74s 1ms/step - loss: 0.0273 - acc: 0.4630 - val_loss: 0.0271 - val_acc: 0.4635\n",
      "Epoch 41/150\n",
      "60000/60000 [==============================] - 75s 1ms/step - loss: 0.0272 - acc: 0.4631 - val_loss: 0.0270 - val_acc: 0.4635\n",
      "Epoch 42/150\n",
      "60000/60000 [==============================] - 74s 1ms/step - loss: 0.0272 - acc: 0.4631 - val_loss: 0.0269 - val_acc: 0.4636\n",
      "Epoch 43/150\n",
      "60000/60000 [==============================] - 74s 1ms/step - loss: 0.0271 - acc: 0.4632 - val_loss: 0.0268 - val_acc: 0.4636\n",
      "Epoch 44/150\n",
      "60000/60000 [==============================] - 74s 1ms/step - loss: 0.0270 - acc: 0.4632 - val_loss: 0.0268 - val_acc: 0.4636\n",
      "Epoch 45/150\n",
      "60000/60000 [==============================] - 74s 1ms/step - loss: 0.0269 - acc: 0.4632 - val_loss: 0.0267 - val_acc: 0.4637\n",
      "Epoch 46/150\n",
      "60000/60000 [==============================] - 74s 1ms/step - loss: 0.0269 - acc: 0.4633 - val_loss: 0.0266 - val_acc: 0.4637\n",
      "Epoch 47/150\n",
      "60000/60000 [==============================] - 74s 1ms/step - loss: 0.0268 - acc: 0.4633 - val_loss: 0.0266 - val_acc: 0.4637\n",
      "Epoch 48/150\n",
      "60000/60000 [==============================] - 74s 1ms/step - loss: 0.0267 - acc: 0.4633 - val_loss: 0.0265 - val_acc: 0.4638\n",
      "Epoch 49/150\n",
      "60000/60000 [==============================] - 74s 1ms/step - loss: 0.0267 - acc: 0.4634 - val_loss: 0.0264 - val_acc: 0.4638\n",
      "Epoch 50/150\n",
      "60000/60000 [==============================] - 73s 1ms/step - loss: 0.0266 - acc: 0.4634 - val_loss: 0.0264 - val_acc: 0.4638\n",
      "Epoch 51/150\n",
      "60000/60000 [==============================] - 73s 1ms/step - loss: 0.0266 - acc: 0.4634 - val_loss: 0.0263 - val_acc: 0.4638\n",
      "Epoch 52/150\n",
      "60000/60000 [==============================] - 73s 1ms/step - loss: 0.0265 - acc: 0.4634 - val_loss: 0.0263 - val_acc: 0.4639\n",
      "Epoch 53/150\n",
      "60000/60000 [==============================] - 73s 1ms/step - loss: 0.0264 - acc: 0.4635 - val_loss: 0.0263 - val_acc: 0.4639\n",
      "Epoch 54/150\n",
      "60000/60000 [==============================] - 73s 1ms/step - loss: 0.0264 - acc: 0.4635 - val_loss: 0.0262 - val_acc: 0.4639\n",
      "Epoch 55/150\n",
      "60000/60000 [==============================] - 74s 1ms/step - loss: 0.0263 - acc: 0.4635 - val_loss: 0.0261 - val_acc: 0.4639\n",
      "Epoch 56/150\n",
      "60000/60000 [==============================] - 73s 1ms/step - loss: 0.0263 - acc: 0.4635 - val_loss: 0.0261 - val_acc: 0.4639\n",
      "Epoch 57/150\n",
      "60000/60000 [==============================] - 73s 1ms/step - loss: 0.0262 - acc: 0.4636 - val_loss: 0.0260 - val_acc: 0.4640\n",
      "Epoch 58/150\n",
      "60000/60000 [==============================] - 73s 1ms/step - loss: 0.0262 - acc: 0.4636 - val_loss: 0.0260 - val_acc: 0.4640\n",
      "Epoch 59/150\n",
      "60000/60000 [==============================] - 73s 1ms/step - loss: 0.0261 - acc: 0.4636 - val_loss: 0.0259 - val_acc: 0.4640\n",
      "Epoch 60/150\n",
      "60000/60000 [==============================] - 73s 1ms/step - loss: 0.0261 - acc: 0.4636 - val_loss: 0.0259 - val_acc: 0.4640\n",
      "Epoch 61/150\n",
      "60000/60000 [==============================] - 73s 1ms/step - loss: 0.0260 - acc: 0.4637 - val_loss: 0.0259 - val_acc: 0.4641\n",
      "Epoch 62/150\n",
      "60000/60000 [==============================] - 74s 1ms/step - loss: 0.0260 - acc: 0.4637 - val_loss: 0.0258 - val_acc: 0.4641\n",
      "Epoch 63/150\n",
      "60000/60000 [==============================] - 74s 1ms/step - loss: 0.0260 - acc: 0.4637 - val_loss: 0.0258 - val_acc: 0.4641\n",
      "Epoch 64/150\n",
      "60000/60000 [==============================] - 73s 1ms/step - loss: 0.0259 - acc: 0.4637 - val_loss: 0.0257 - val_acc: 0.4641\n",
      "Epoch 65/150\n",
      "60000/60000 [==============================] - 73s 1ms/step - loss: 0.0259 - acc: 0.4638 - val_loss: 0.0257 - val_acc: 0.4642\n",
      "Epoch 66/150\n",
      "60000/60000 [==============================] - 73s 1ms/step - loss: 0.0258 - acc: 0.4638 - val_loss: 0.0256 - val_acc: 0.4642\n",
      "Epoch 67/150\n",
      "60000/60000 [==============================] - 73s 1ms/step - loss: 0.0258 - acc: 0.4638 - val_loss: 0.0256 - val_acc: 0.4642\n",
      "Epoch 68/150\n",
      "60000/60000 [==============================] - 73s 1ms/step - loss: 0.0257 - acc: 0.4638 - val_loss: 0.0256 - val_acc: 0.4642\n",
      "Epoch 69/150\n",
      "60000/60000 [==============================] - 73s 1ms/step - loss: 0.0257 - acc: 0.4638 - val_loss: 0.0255 - val_acc: 0.4642\n",
      "Epoch 70/150\n",
      "60000/60000 [==============================] - 73s 1ms/step - loss: 0.0256 - acc: 0.4639 - val_loss: 0.0255 - val_acc: 0.4642\n",
      "Epoch 71/150\n",
      "60000/60000 [==============================] - 73s 1ms/step - loss: 0.0256 - acc: 0.4639 - val_loss: 0.0255 - val_acc: 0.4643\n",
      "Epoch 72/150\n",
      "60000/60000 [==============================] - 73s 1ms/step - loss: 0.0256 - acc: 0.4639 - val_loss: 0.0254 - val_acc: 0.4643\n",
      "Epoch 73/150\n",
      "60000/60000 [==============================] - 74s 1ms/step - loss: 0.0255 - acc: 0.4639 - val_loss: 0.0254 - val_acc: 0.4643\n",
      "Epoch 74/150\n",
      "60000/60000 [==============================] - 73s 1ms/step - loss: 0.0255 - acc: 0.4639 - val_loss: 0.0253 - val_acc: 0.4643\n",
      "Epoch 75/150\n",
      "60000/60000 [==============================] - 73s 1ms/step - loss: 0.0255 - acc: 0.4639 - val_loss: 0.0253 - val_acc: 0.4643\n",
      "Epoch 76/150\n",
      "60000/60000 [==============================] - 73s 1ms/step - loss: 0.0254 - acc: 0.4640 - val_loss: 0.0253 - val_acc: 0.4643\n",
      "Epoch 77/150\n",
      "60000/60000 [==============================] - 73s 1ms/step - loss: 0.0254 - acc: 0.4640 - val_loss: 0.0252 - val_acc: 0.4644\n",
      "Epoch 78/150\n",
      "60000/60000 [==============================] - 73s 1ms/step - loss: 0.0253 - acc: 0.4640 - val_loss: 0.0252 - val_acc: 0.4644\n",
      "Epoch 79/150\n",
      "60000/60000 [==============================] - 73s 1ms/step - loss: 0.0253 - acc: 0.4640 - val_loss: 0.0252 - val_acc: 0.4644\n",
      "Epoch 80/150\n",
      "60000/60000 [==============================] - 74s 1ms/step - loss: 0.0253 - acc: 0.4640 - val_loss: 0.0251 - val_acc: 0.4644\n",
      "Epoch 81/150\n",
      "60000/60000 [==============================] - 74s 1ms/step - loss: 0.0253 - acc: 0.4640 - val_loss: 0.0251 - val_acc: 0.4644\n",
      "Epoch 82/150\n",
      "60000/60000 [==============================] - 73s 1ms/step - loss: 0.0252 - acc: 0.4641 - val_loss: 0.0251 - val_acc: 0.4644\n",
      "Epoch 83/150\n",
      "60000/60000 [==============================] - 73s 1ms/step - loss: 0.0252 - acc: 0.4641 - val_loss: 0.0250 - val_acc: 0.4644\n",
      "Epoch 84/150\n",
      "60000/60000 [==============================] - 73s 1ms/step - loss: 0.0252 - acc: 0.4641 - val_loss: 0.0250 - val_acc: 0.4644\n",
      "Epoch 85/150\n",
      "60000/60000 [==============================] - 73s 1ms/step - loss: 0.0251 - acc: 0.4641 - val_loss: 0.0250 - val_acc: 0.4645\n",
      "Epoch 86/150\n",
      "60000/60000 [==============================] - 73s 1ms/step - loss: 0.0251 - acc: 0.4641 - val_loss: 0.0250 - val_acc: 0.4645\n",
      "Epoch 87/150\n",
      "60000/60000 [==============================] - 76s 1ms/step - loss: 0.0251 - acc: 0.4641 - val_loss: 0.0249 - val_acc: 0.4645\n",
      "Epoch 88/150\n",
      "60000/60000 [==============================] - 75s 1ms/step - loss: 0.0250 - acc: 0.4641 - val_loss: 0.0249 - val_acc: 0.4645\n",
      "Epoch 89/150\n",
      "60000/60000 [==============================] - 75s 1ms/step - loss: 0.0250 - acc: 0.4641 - val_loss: 0.0249 - val_acc: 0.4645\n",
      "Epoch 90/150\n",
      "60000/60000 [==============================] - 75s 1ms/step - loss: 0.0250 - acc: 0.4641 - val_loss: 0.0248 - val_acc: 0.4645\n",
      "Epoch 91/150\n",
      "60000/60000 [==============================] - 74s 1ms/step - loss: 0.0250 - acc: 0.4642 - val_loss: 0.0248 - val_acc: 0.4645\n",
      "Epoch 92/150\n",
      "60000/60000 [==============================] - 75s 1ms/step - loss: 0.0249 - acc: 0.4642 - val_loss: 0.0248 - val_acc: 0.4645\n",
      "Epoch 93/150\n",
      "60000/60000 [==============================] - 75s 1ms/step - loss: 0.0249 - acc: 0.4642 - val_loss: 0.0248 - val_acc: 0.4645\n",
      "Epoch 94/150\n",
      "60000/60000 [==============================] - 75s 1ms/step - loss: 0.0249 - acc: 0.4642 - val_loss: 0.0247 - val_acc: 0.4645\n",
      "Epoch 95/150\n",
      "60000/60000 [==============================] - 75s 1ms/step - loss: 0.0248 - acc: 0.4642 - val_loss: 0.0247 - val_acc: 0.4646\n",
      "Epoch 96/150\n",
      "60000/60000 [==============================] - 75s 1ms/step - loss: 0.0248 - acc: 0.4642 - val_loss: 0.0247 - val_acc: 0.4646\n",
      "Epoch 97/150\n",
      "60000/60000 [==============================] - 75s 1ms/step - loss: 0.0248 - acc: 0.4642 - val_loss: 0.0247 - val_acc: 0.4646\n",
      "Epoch 98/150\n",
      "60000/60000 [==============================] - 75s 1ms/step - loss: 0.0248 - acc: 0.4642 - val_loss: 0.0246 - val_acc: 0.4646\n",
      "Epoch 99/150\n",
      "60000/60000 [==============================] - 74s 1ms/step - loss: 0.0247 - acc: 0.4642 - val_loss: 0.0246 - val_acc: 0.4646\n",
      "Epoch 100/150\n",
      "60000/60000 [==============================] - 75s 1ms/step - loss: 0.0247 - acc: 0.4642 - val_loss: 0.0246 - val_acc: 0.4646\n",
      "Epoch 101/150\n",
      "60000/60000 [==============================] - 75s 1ms/step - loss: 0.0247 - acc: 0.4643 - val_loss: 0.0246 - val_acc: 0.4646\n",
      "Epoch 102/150\n",
      "60000/60000 [==============================] - 75s 1ms/step - loss: 0.0247 - acc: 0.4643 - val_loss: 0.0245 - val_acc: 0.4646\n",
      "Epoch 103/150\n",
      "60000/60000 [==============================] - 74s 1ms/step - loss: 0.0247 - acc: 0.4643 - val_loss: 0.0245 - val_acc: 0.4646\n",
      "Epoch 104/150\n",
      "60000/60000 [==============================] - 75s 1ms/step - loss: 0.0246 - acc: 0.4643 - val_loss: 0.0245 - val_acc: 0.4646\n",
      "Epoch 105/150\n",
      "60000/60000 [==============================] - 75s 1ms/step - loss: 0.0246 - acc: 0.4643 - val_loss: 0.0245 - val_acc: 0.4647\n",
      "Epoch 106/150\n",
      "60000/60000 [==============================] - 75s 1ms/step - loss: 0.0246 - acc: 0.4643 - val_loss: 0.0245 - val_acc: 0.4647\n",
      "Epoch 107/150\n",
      "60000/60000 [==============================] - 75s 1ms/step - loss: 0.0246 - acc: 0.4643 - val_loss: 0.0244 - val_acc: 0.4647\n",
      "Epoch 108/150\n",
      "60000/60000 [==============================] - 75s 1ms/step - loss: 0.0245 - acc: 0.4643 - val_loss: 0.0244 - val_acc: 0.4647\n",
      "Epoch 109/150\n",
      "60000/60000 [==============================] - 75s 1ms/step - loss: 0.0245 - acc: 0.4643 - val_loss: 0.0244 - val_acc: 0.4647\n",
      "Epoch 110/150\n",
      "60000/60000 [==============================] - 75s 1ms/step - loss: 0.0245 - acc: 0.4643 - val_loss: 0.0244 - val_acc: 0.4647\n",
      "Epoch 111/150\n",
      "60000/60000 [==============================] - 75s 1ms/step - loss: 0.0245 - acc: 0.4643 - val_loss: 0.0243 - val_acc: 0.4647\n",
      "Epoch 112/150\n",
      "60000/60000 [==============================] - 75s 1ms/step - loss: 0.0245 - acc: 0.4644 - val_loss: 0.0243 - val_acc: 0.4647\n",
      "Epoch 113/150\n",
      "60000/60000 [==============================] - 75s 1ms/step - loss: 0.0244 - acc: 0.4644 - val_loss: 0.0243 - val_acc: 0.4647\n",
      "Epoch 114/150\n",
      "60000/60000 [==============================] - 75s 1ms/step - loss: 0.0244 - acc: 0.4644 - val_loss: 0.0243 - val_acc: 0.4647\n",
      "Epoch 115/150\n",
      "60000/60000 [==============================] - 75s 1ms/step - loss: 0.0244 - acc: 0.4644 - val_loss: 0.0243 - val_acc: 0.4647\n",
      "Epoch 116/150\n",
      "60000/60000 [==============================] - 75s 1ms/step - loss: 0.0244 - acc: 0.4644 - val_loss: 0.0243 - val_acc: 0.4647\n",
      "Epoch 117/150\n",
      "60000/60000 [==============================] - 75s 1ms/step - loss: 0.0244 - acc: 0.4644 - val_loss: 0.0242 - val_acc: 0.4647\n",
      "Epoch 118/150\n",
      "60000/60000 [==============================] - 75s 1ms/step - loss: 0.0243 - acc: 0.4644 - val_loss: 0.0242 - val_acc: 0.4647\n",
      "Epoch 119/150\n",
      "60000/60000 [==============================] - 74s 1ms/step - loss: 0.0243 - acc: 0.4644 - val_loss: 0.0242 - val_acc: 0.4647\n",
      "Epoch 120/150\n",
      "60000/60000 [==============================] - 75s 1ms/step - loss: 0.0243 - acc: 0.4644 - val_loss: 0.0242 - val_acc: 0.4648\n",
      "Epoch 121/150\n",
      "60000/60000 [==============================] - 74s 1ms/step - loss: 0.0243 - acc: 0.4644 - val_loss: 0.0242 - val_acc: 0.4648\n",
      "Epoch 122/150\n",
      "60000/60000 [==============================] - 74s 1ms/step - loss: 0.0243 - acc: 0.4644 - val_loss: 0.0241 - val_acc: 0.4648\n",
      "Epoch 123/150\n",
      "60000/60000 [==============================] - 75s 1ms/step - loss: 0.0242 - acc: 0.4644 - val_loss: 0.0241 - val_acc: 0.4648\n",
      "Epoch 124/150\n",
      "60000/60000 [==============================] - 74s 1ms/step - loss: 0.0242 - acc: 0.4644 - val_loss: 0.0241 - val_acc: 0.4648\n",
      "Epoch 125/150\n",
      "60000/60000 [==============================] - 74s 1ms/step - loss: 0.0242 - acc: 0.4644 - val_loss: 0.0241 - val_acc: 0.4648\n",
      "Epoch 126/150\n",
      "60000/60000 [==============================] - 74s 1ms/step - loss: 0.0242 - acc: 0.4644 - val_loss: 0.0241 - val_acc: 0.4648\n",
      "Epoch 127/150\n",
      "60000/60000 [==============================] - 74s 1ms/step - loss: 0.0242 - acc: 0.4644 - val_loss: 0.0241 - val_acc: 0.4648\n",
      "Epoch 128/150\n",
      "60000/60000 [==============================] - 74s 1ms/step - loss: 0.0242 - acc: 0.4645 - val_loss: 0.0240 - val_acc: 0.4648\n",
      "Epoch 129/150\n",
      "60000/60000 [==============================] - 75s 1ms/step - loss: 0.0241 - acc: 0.4645 - val_loss: 0.0240 - val_acc: 0.4648\n",
      "Epoch 130/150\n",
      "60000/60000 [==============================] - 74s 1ms/step - loss: 0.0241 - acc: 0.4645 - val_loss: 0.0240 - val_acc: 0.4648\n",
      "Epoch 131/150\n",
      "60000/60000 [==============================] - 74s 1ms/step - loss: 0.0241 - acc: 0.4645 - val_loss: 0.0240 - val_acc: 0.4648\n",
      "Epoch 132/150\n",
      "60000/60000 [==============================] - 74s 1ms/step - loss: 0.0241 - acc: 0.4645 - val_loss: 0.0240 - val_acc: 0.4648\n",
      "Epoch 133/150\n",
      "60000/60000 [==============================] - 74s 1ms/step - loss: 0.0241 - acc: 0.4645 - val_loss: 0.0240 - val_acc: 0.4648\n",
      "Epoch 134/150\n",
      "60000/60000 [==============================] - 74s 1ms/step - loss: 0.0241 - acc: 0.4645 - val_loss: 0.0239 - val_acc: 0.4648\n",
      "Epoch 135/150\n",
      "60000/60000 [==============================] - 74s 1ms/step - loss: 0.0240 - acc: 0.4645 - val_loss: 0.0239 - val_acc: 0.4648\n",
      "Epoch 136/150\n",
      "60000/60000 [==============================] - 75s 1ms/step - loss: 0.0240 - acc: 0.4645 - val_loss: 0.0239 - val_acc: 0.4648\n",
      "Epoch 137/150\n",
      "60000/60000 [==============================] - 75s 1ms/step - loss: 0.0240 - acc: 0.4645 - val_loss: 0.0239 - val_acc: 0.4649\n",
      "Epoch 138/150\n",
      "60000/60000 [==============================] - 75s 1ms/step - loss: 0.0240 - acc: 0.4645 - val_loss: 0.0239 - val_acc: 0.4649\n",
      "Epoch 139/150\n",
      "60000/60000 [==============================] - 75s 1ms/step - loss: 0.0240 - acc: 0.4645 - val_loss: 0.0239 - val_acc: 0.4649\n",
      "Epoch 140/150\n",
      "60000/60000 [==============================] - 75s 1ms/step - loss: 0.0240 - acc: 0.4645 - val_loss: 0.0239 - val_acc: 0.4649\n",
      "Epoch 141/150\n",
      "60000/60000 [==============================] - 75s 1ms/step - loss: 0.0239 - acc: 0.4645 - val_loss: 0.0238 - val_acc: 0.4649\n",
      "Epoch 142/150\n",
      "60000/60000 [==============================] - 75s 1ms/step - loss: 0.0239 - acc: 0.4645 - val_loss: 0.0238 - val_acc: 0.4649\n",
      "Epoch 143/150\n",
      "60000/60000 [==============================] - 74s 1ms/step - loss: 0.0239 - acc: 0.4645 - val_loss: 0.0238 - val_acc: 0.4649\n",
      "Epoch 144/150\n",
      "60000/60000 [==============================] - 75s 1ms/step - loss: 0.0239 - acc: 0.4645 - val_loss: 0.0238 - val_acc: 0.4649\n",
      "Epoch 145/150\n",
      "60000/60000 [==============================] - 74s 1ms/step - loss: 0.0239 - acc: 0.4645 - val_loss: 0.0238 - val_acc: 0.4649\n",
      "Epoch 146/150\n",
      "60000/60000 [==============================] - 74s 1ms/step - loss: 0.0239 - acc: 0.4646 - val_loss: 0.0238 - val_acc: 0.4649\n",
      "Epoch 147/150\n",
      "60000/60000 [==============================] - 74s 1ms/step - loss: 0.0239 - acc: 0.4646 - val_loss: 0.0238 - val_acc: 0.4649\n",
      "Epoch 148/150\n",
      "60000/60000 [==============================] - 74s 1ms/step - loss: 0.0239 - acc: 0.4646 - val_loss: 0.0238 - val_acc: 0.4649\n",
      "Epoch 149/150\n",
      "60000/60000 [==============================] - 74s 1ms/step - loss: 0.0238 - acc: 0.4646 - val_loss: 0.0237 - val_acc: 0.4649\n",
      "Epoch 150/150\n",
      "60000/60000 [==============================] - 74s 1ms/step - loss: 0.0238 - acc: 0.4646 - val_loss: 0.0237 - val_acc: 0.4649\n"
     ]
    }
   ],
   "source": [
    "#Create denoising autoencoder architecture\n",
    "def dae():\n",
    "  \n",
    "    model = Sequential()\n",
    "    \n",
    "      \n",
    "    model.add(Conv2D(16,\n",
    "                     (3,3),\n",
    "                     activation='sigmoid',\n",
    "                     padding='same',\n",
    "                     input_shape=(28,28,1)))\n",
    "    \n",
    "    model.add(MaxPooling2D((2,2),\n",
    "                           padding='same'\n",
    "                           ))\n",
    "    model.add(Conv2D(8,\n",
    "                     (3,3),\n",
    "                     activation='sigmoid',\n",
    "                     padding='same'))\n",
    "    \n",
    "    model.add(MaxPooling2D(pool_size=(2,2),\n",
    "                           padding='same',\n",
    "                           ))\n",
    "    model.add(Conv2D(8,\n",
    "                     (3,3),\n",
    "                     activation='sigmoid',\n",
    "                     padding='same'))\n",
    "    model.add(UpSampling2D((2,2)))\n",
    "    model.add(Conv2D(16,\n",
    "                     (3,3),\n",
    "                     activation='sigmoid',\n",
    "                     padding='same'))\n",
    "    model.add(UpSampling2D((2,2)))\n",
    "    model.add(Conv2D(1,\n",
    "                     (3,3),\n",
    "                     activation='sigmoid',\n",
    "                     padding='same',\n",
    "                     ))\n",
    "\n",
    "    \n",
    "\n",
    "    return model\n",
    "  \n",
    "\n",
    "dae_model = dae()\n",
    "\n",
    "#Compile and train the DAE\n",
    "\n",
    "dae_model.compile(loss='mse',\n",
    "                 optimizer='adam',\n",
    "                 metrics=['accuracy'])\n",
    "\n",
    "dae_data = dae_model.fit(x_train, x_train, validation_data=(x_test, x_test), epochs=150, batch_size=512, shuffle=True)\n",
    "\n",
    "#Generate denoised versions of noisy inputs\n",
    "reconstructed_images_dae=dae_model.predict(x_test)\n"
   ]
  },
  {
   "cell_type": "code",
   "execution_count": 0,
   "metadata": {
    "colab": {
     "base_uri": "https://localhost:8080/",
     "height": 295
    },
    "colab_type": "code",
    "id": "_azeum1yxYIf",
    "outputId": "13395343-56ea-4690-8960-65938af7f013"
   },
   "outputs": [
    {
     "data": {
      "image/png": "[encoded data removed]",
      "text/plain": [
       "<Figure size 432x288 with 1 Axes>"
      ]
     },
     "metadata": {
      "tags": []
     },
     "output_type": "display_data"
    }
   ],
   "source": [
    "#Plot loss vs epoch\n",
    "plt.plot(dae_data.history['loss'])\n",
    "plt.plot(dae_data.history['val_loss'])\n",
    "plt.title('model loss')\n",
    "plt.ylabel('loss')\n",
    "plt.xlabel('epoch')\n",
    "plt.legend(['train', 'test'], loc='upper left')\n",
    "plt.show()"
   ]
  },
  {
   "cell_type": "code",
   "execution_count": 0,
   "metadata": {
    "colab": {
     "base_uri": "https://localhost:8080/",
     "height": 83
    },
    "colab_type": "code",
    "id": "m6-Xh7EDx0Vq",
    "outputId": "2490f46f-2e02-4ecb-fbc4-5ebd8f5b535e"
   },
   "outputs": [
    {
     "name": "stdout",
     "output_type": "stream",
     "text": [
      "10 testing sample images\n"
     ]
    },
    {
     "data": {
      "image/png": "[encoded data removed]",
      "text/plain": [
       "<Figure size 432x288 with 10 Axes>"
      ]
     },
     "metadata": {
      "tags": []
     },
     "output_type": "display_data"
    }
   ],
   "source": [
    "#Show samples of 10 original images, their noisy counterparts, and their de-noised images from the testing set\n",
    "print(\"10 testing sample images\")\n",
    "n=10\n",
    "plt.figure()\n",
    "for i in range(n):\n",
    "  ax=plt.subplot(2,10,i+1)\n",
    "  plt.imshow(data_test[i].reshape((28,28)))\n",
    "  plt.gray()\n",
    "  ax.get_xaxis().set_visible(False)\n",
    "  ax.get_yaxis().set_visible(False)"
   ]
  },
  {
   "cell_type": "code",
   "execution_count": 0,
   "metadata": {
    "colab": {
     "base_uri": "https://localhost:8080/",
     "height": 83
    },
    "colab_type": "code",
    "id": "lEfcJQZXTuw-",
    "outputId": "b2b1c043-715d-4b6d-dd24-4f46c25cd576"
   },
   "outputs": [
    {
     "name": "stdout",
     "output_type": "stream",
     "text": [
      "10 testing sample images after adding Gaussian Noise\n"
     ]
    },
    {
     "data": {
      "image/png": "[encoded data removed]",
      "text/plain": [
       "<Figure size 432x288 with 10 Axes>"
      ]
     },
     "metadata": {
      "tags": []
     },
     "output_type": "display_data"
    }
   ],
   "source": [
    "print(\"10 testing sample images after adding Gaussian Noise\")\n",
    "n=10\n",
    "plt.figure()\n",
    "for i in range(n):\n",
    "  ax=plt.subplot(2,10,i+1)\n",
    "  plt.imshow(data_test_noisy[i].reshape((28,28)))\n",
    "  plt.gray()\n",
    "  ax.get_xaxis().set_visible(False)\n",
    "  ax.get_yaxis().set_visible(False)"
   ]
  },
  {
   "cell_type": "code",
   "execution_count": 0,
   "metadata": {
    "colab": {
     "base_uri": "https://localhost:8080/",
     "height": 83
    },
    "colab_type": "code",
    "id": "J6Z-_wZcT2Ok",
    "outputId": "5066a6f7-1e31-48a8-c161-317a908e83f0"
   },
   "outputs": [
    {
     "name": "stdout",
     "output_type": "stream",
     "text": [
      "10 sample denoised images\n"
     ]
    },
    {
     "data": {
      "image/png": "[encoded data removed]",
      "text/plain": [
       "<Figure size 432x288 with 10 Axes>"
      ]
     },
     "metadata": {
      "tags": []
     },
     "output_type": "display_data"
    }
   ],
   "source": [
    "print(\"10 sample denoised images\")\n",
    "n=10\n",
    "plt.figure()\n",
    "for i in range(n):\n",
    "  ax=plt.subplot(2,10,i+1)\n",
    "  plt.imshow(reconstructed_images_dae[i].reshape((28,28)))\n",
    "  plt.gray()\n",
    "  ax.get_xaxis().set_visible(False)\n",
    "  ax.get_yaxis().set_visible(False)"
   ]
  }
 ],
 "metadata": {
  "colab": {
   "collapsed_sections": [],
   "name": "Project_2_Student.ipynb",
   "provenance": []
  },
  "kernelspec": {
   "display_name": "Python 2",
   "name": "python2"
  }
 },
 "nbformat": 4,
 "nbformat_minor": 1
}
